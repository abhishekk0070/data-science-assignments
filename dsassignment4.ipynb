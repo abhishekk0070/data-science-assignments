{
 "cells": [
  {
   "cell_type": "code",
   "execution_count": 1,
   "id": "81833982-a9d6-4b3d-803e-93387ca5710c",
   "metadata": {},
   "outputs": [],
   "source": [
    "#ans1\n",
    "'''class=A class is a blueprint or template for creating objects.\n",
    "   It defines the structure and behavior that objects of that class will have.\n",
    "   In other words, a class is like a blueprint for creating objects, specifying \n",
    "   what attributes (data) and methods (functions) an object of that class can have.'''\n",
    "\n",
    "'''objects=An object is an instance of a class. It is a concrete realization of the class blueprint,\n",
    "   with its own unique data and state. Objects are created based on the structure and behavior defined by the class.'''\n",
    "#example:\n",
    "class car:   # it is the class of cars\n",
    "    def __init__(self,company,model,year):\n",
    "        self.company=company\n",
    "        self.model=model\n",
    "        self.year=year\n",
    "        \n",
    "    def return_result(self):\n",
    "        return self.company,self.model,self.year\n",
    "        "
   ]
  },
  {
   "cell_type": "code",
   "execution_count": 2,
   "id": "993647e4-5c1a-48d5-bf50-a5eeabfcb97f",
   "metadata": {},
   "outputs": [],
   "source": [
    "# car1 and car2 are objects\n",
    "car1=car('toyota','fortuner',2021)\n",
    "car2=car('maruti','swift',2020)"
   ]
  },
  {
   "cell_type": "code",
   "execution_count": 3,
   "id": "54264694-248e-45c5-87c3-f830784bfd48",
   "metadata": {},
   "outputs": [
    {
     "data": {
      "text/plain": [
       "('toyota', 'fortuner', 2021)"
      ]
     },
     "execution_count": 3,
     "metadata": {},
     "output_type": "execute_result"
    }
   ],
   "source": [
    "car1.return_result()"
   ]
  },
  {
   "cell_type": "code",
   "execution_count": 4,
   "id": "5dc03512-f9db-4e7c-9444-b5f0c59c8b35",
   "metadata": {},
   "outputs": [
    {
     "data": {
      "text/plain": [
       "'four pillars of the object oriented programming are:\\n   1.polymorphism\\n   2.encapsulation\\n   3.abstraction\\n   4.inheritance'"
      ]
     },
     "execution_count": 4,
     "metadata": {},
     "output_type": "execute_result"
    }
   ],
   "source": [
    "#ans2\n",
    "'''four pillars of the object oriented programming are:\n",
    "   1.polymorphism\n",
    "   2.encapsulation\n",
    "   3.abstraction\n",
    "   4.inheritance'''"
   ]
  },
  {
   "cell_type": "code",
   "execution_count": 5,
   "id": "d13fd701-2a2d-4b8c-8b33-095aab2d5a75",
   "metadata": {},
   "outputs": [],
   "source": [
    "#ans3\n",
    "'''The __init__() function, also known as the constructor, is a special method in Python \n",
    "that is used to initialize the attributes of an object when it is created. It is automatically called \n",
    "when an object of a class is instantiated, and it allows you to set the initial values for the object's attributes.'''\n",
    "#example:\n",
    "class Person:\n",
    "    def __init__(self, name, age):\n",
    "        self.name = name\n",
    "        self.age = age\n",
    "\n",
    "    def introduce(self):\n",
    "        print(\"My name is\", self.name, \"and I am\", self.age,\" years old.\")\n",
    "\n"
   ]
  },
  {
   "cell_type": "code",
   "execution_count": 6,
   "id": "8e5109f2-3d1b-4574-bce8-3b90517f5bfe",
   "metadata": {},
   "outputs": [],
   "source": [
    "person1=Person('abhishek',24)"
   ]
  },
  {
   "cell_type": "code",
   "execution_count": 7,
   "id": "4b798337-9cf5-4179-8195-40b7833c6018",
   "metadata": {},
   "outputs": [
    {
     "name": "stdout",
     "output_type": "stream",
     "text": [
      "My name is abhishek and I am 24  years old.\n"
     ]
    }
   ],
   "source": [
    "person1.introduce()"
   ]
  },
  {
   "cell_type": "code",
   "execution_count": 8,
   "id": "64a6be5c-486f-42c8-b048-20a8b699cc70",
   "metadata": {},
   "outputs": [
    {
     "name": "stdout",
     "output_type": "stream",
     "text": [
      "Alice\n"
     ]
    }
   ],
   "source": [
    "#ans4\n",
    "'''self is used within classes to refer to the instance of the class itself. \n",
    "   It is a reference to the object that is being created when you instantiate a class.'''\n",
    "#example:\n",
    "class Person:\n",
    "    def __init__(self, name, age):\n",
    "        self.name = name   # self.name is an instance variable\n",
    "        self.age = age     # self.age is an instance variable\n",
    "\n",
    "person1 = Person(\"Alice\", 30)\n",
    "print(person1.name)  # Accessing instance variable using self\n"
   ]
  },
  {
   "cell_type": "code",
   "execution_count": 10,
   "id": "b3480a6c-8344-4519-bc0a-2121a5d22a4c",
   "metadata": {},
   "outputs": [
    {
     "name": "stdout",
     "output_type": "stream",
     "text": [
      "woof\n"
     ]
    }
   ],
   "source": [
    "#ans5\n",
    "'''Inheritance is one of the fundamental concepts in object-oriented programming (OOP).\n",
    "It allows you to create a new class (called a derived or subclass) based on an existing class \n",
    "(called a base or superclass). The derived class inherits attributes and methods from the base class,\n",
    "allowing you to reuse and extend code while promoting code organization and reusability.'''\n",
    "#Single Inheritance: In single inheritance, a subclass inherits from only one superclass. \n",
    "#This is the simplest form of inheritance.\n",
    "class animal:\n",
    "    def speak(self):\n",
    "        pass\n",
    "class dog(animal):\n",
    "    def speak(speak):\n",
    "        return 'woof'\n",
    "obj=dog()\n",
    "print(obj.speak())"
   ]
  },
  {
   "cell_type": "code",
   "execution_count": 11,
   "id": "a1b77cef-16ec-4317-948c-71bbec246729",
   "metadata": {},
   "outputs": [
    {
     "data": {
      "text/plain": [
       "'hello from parent1'"
      ]
     },
     "execution_count": 11,
     "metadata": {},
     "output_type": "execute_result"
    }
   ],
   "source": [
    "#Multiple Inheritance: In multiple inheritance, a subclass can inherit from more than one superclass.\n",
    "class parent1:\n",
    "    def speak(self):\n",
    "        return 'hello from parent1'\n",
    "class parent2:\n",
    "    def speak(self):\n",
    "        return 'hello from parent2'\n",
    "class child(parent1,parent2):\n",
    "    pass\n",
    "child1=child()\n",
    "child1.speak()\n",
    "    \n",
    "    "
   ]
  },
  {
   "cell_type": "code",
   "execution_count": 13,
   "id": "6f14d645-ee32-4962-a809-387e570e7a28",
   "metadata": {},
   "outputs": [
    {
     "data": {
      "text/plain": [
       "'i am grandparent'"
      ]
     },
     "execution_count": 13,
     "metadata": {},
     "output_type": "execute_result"
    }
   ],
   "source": [
    "#Multilevel Inheritance: In multilevel inheritance, a class derives from another class, \n",
    "#which in turn derives from another class, creating a chain of inheritance.\n",
    "class grandparent:\n",
    "    def speak(self):\n",
    "        return 'i am grandparent'\n",
    "class parent(grandparent):\n",
    "    pass\n",
    "   \n",
    "class child(parent):\n",
    "    pass\n",
    "obj=child()\n",
    "obj.speak()\n"
   ]
  },
  {
   "cell_type": "code",
   "execution_count": 14,
   "id": "8d736780-ad55-448c-95d5-81140c1cf442",
   "metadata": {},
   "outputs": [
    {
     "name": "stdout",
     "output_type": "stream",
     "text": [
      "78.5\n"
     ]
    }
   ],
   "source": [
    "#Hierarchical Inheritance: In hierarchical inheritance, multiple derived classes inherit\n",
    "#from a single base class. Each subclass may have its own specific attributes and methods.\n",
    "class Shape:\n",
    "    def area(self):\n",
    "        pass\n",
    "\n",
    "class Circle(Shape):\n",
    "    def __init__(self, radius):\n",
    "        self.radius = radius\n",
    "\n",
    "    def area(self):\n",
    "        return 3.14 * self.radius * self.radius\n",
    "\n",
    "class Square(Shape):\n",
    "    def __init__(self, side_length):\n",
    "        self.side_length = side_length\n",
    "\n",
    "    def area(self):\n",
    "        return self.side_length ** 2\n",
    "\n",
    "circle = Circle(5)\n",
    "square = Square(4)\n",
    "print(circle.area()) \n"
   ]
  },
  {
   "cell_type": "code",
   "execution_count": null,
   "id": "00e94127-3c6d-4f0e-b134-7e2d0fca1e74",
   "metadata": {},
   "outputs": [],
   "source": []
  }
 ],
 "metadata": {
  "kernelspec": {
   "display_name": "Python 3 (ipykernel)",
   "language": "python",
   "name": "python3"
  },
  "language_info": {
   "codemirror_mode": {
    "name": "ipython",
    "version": 3
   },
   "file_extension": ".py",
   "mimetype": "text/x-python",
   "name": "python",
   "nbconvert_exporter": "python",
   "pygments_lexer": "ipython3",
   "version": "3.10.8"
  }
 },
 "nbformat": 4,
 "nbformat_minor": 5
}
