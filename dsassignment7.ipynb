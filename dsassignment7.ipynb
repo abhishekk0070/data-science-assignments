{
 "cells": [
  {
   "cell_type": "code",
   "execution_count": 1,
   "id": "9b697771-d074-4126-a431-72845b757ac2",
   "metadata": {},
   "outputs": [],
   "source": [
    "#ans1\n",
    "list1 = [1,2,3,4, [44,55,66, True], False, (34,56,78,89,34), {1,2,3,3,2,1}, {1:34, \"key2\": [55, 67, 78, 89], 4: (45,\n",
    "22, 61, 34)}, [56, 'data science'], 'Machine Learning']\n",
    "\n",
    "l=[]\n",
    "def product(a):\n",
    "    for i in a:\n",
    "        if type(i)==int:\n",
    "            l.append(i)\n",
    "        elif type(i)==list:\n",
    "            for j in i:\n",
    "                if type(j)==int:\n",
    "                    l.append(j)\n",
    "        elif type(i)==tuple:\n",
    "            for k in i:\n",
    "                if type(k)==int:\n",
    "                    l.append(k)\n",
    "        elif type(i)==set:\n",
    "            for m in i:\n",
    "                if type(m)==int:\n",
    "                    l.append(m)\n",
    "        elif type(i)==dict:\n",
    "            for key,value in i.items():\n",
    "                if type(key)==int:\n",
    "                    l.append(key)\n",
    "                if type(value)==int:\n",
    "                    l.append(value)\n",
    "                elif type(value)==list:\n",
    "                    for n in value:\n",
    "                        l.append(n)\n",
    "                elif type(value)==tuple:\n",
    "                    for n in value:\n",
    "                        l.append(n)\n",
    "    return l\n",
    "\n",
    "                \n"
   ]
  },
  {
   "cell_type": "code",
   "execution_count": 2,
   "id": "8ef68637-aee8-4a4e-9b8f-d9090142592d",
   "metadata": {},
   "outputs": [
    {
     "data": {
      "text/plain": [
       "[1,\n",
       " 2,\n",
       " 3,\n",
       " 4,\n",
       " 44,\n",
       " 55,\n",
       " 66,\n",
       " 34,\n",
       " 56,\n",
       " 78,\n",
       " 89,\n",
       " 34,\n",
       " 1,\n",
       " 2,\n",
       " 3,\n",
       " 1,\n",
       " 34,\n",
       " 55,\n",
       " 67,\n",
       " 78,\n",
       " 89,\n",
       " 4,\n",
       " 45,\n",
       " 22,\n",
       " 61,\n",
       " 34,\n",
       " 56]"
      ]
     },
     "execution_count": 2,
     "metadata": {},
     "output_type": "execute_result"
    }
   ],
   "source": [
    "product(list1)"
   ]
  },
  {
   "cell_type": "code",
   "execution_count": 5,
   "id": "8023508a-0dcb-4ed3-a486-11d9c8b1a5f1",
   "metadata": {},
   "outputs": [
    {
     "name": "stdout",
     "output_type": "stream",
     "text": [
      "product of all numbers in the list= 4134711838987085478833841242112000\n"
     ]
    }
   ],
   "source": [
    "mul=1\n",
    "for i in l:\n",
    "    mul=mul*i\n",
    "print('product of all numbers in the list=',mul)\n",
    "    "
   ]
  },
  {
   "cell_type": "code",
   "execution_count": 6,
   "id": "8bd09491-505a-4039-8483-03ff09a78ecf",
   "metadata": {},
   "outputs": [
    {
     "name": "stdout",
     "output_type": "stream",
     "text": [
      "encrypted message= r$dzmg$gl$yvxlnv$z$wzgz$hxrvmgrhg.\n"
     ]
    }
   ],
   "source": [
    "#ans2\n",
    "def encrypt_msg(message):\n",
    "    encrypted_message = \"\"\n",
    "    for char in message:\n",
    "        if char.isalpha():\n",
    "            encrypted_char=chr(122-(ord(char)-97))\n",
    "        elif char==' ':\n",
    "            encrypted_char='$'\n",
    "        else:\n",
    "            encrypted_char=char\n",
    "        encrypted_message+=encrypted_char\n",
    "    return encrypted_message\n",
    "    \n",
    "input_sentence='I want to become a Data Scientist.'\n",
    "input_sentence=input_sentence.lower()\n",
    "encrypted_sentence=encrypt_msg(input_sentence)\n",
    "print('encrypted message=',encrypted_sentence)\n"
   ]
  },
  {
   "cell_type": "code",
   "execution_count": null,
   "id": "46a39e1c-4533-4a07-b7a7-32427bbb39de",
   "metadata": {},
   "outputs": [],
   "source": []
  }
 ],
 "metadata": {
  "kernelspec": {
   "display_name": "Python 3 (ipykernel)",
   "language": "python",
   "name": "python3"
  },
  "language_info": {
   "codemirror_mode": {
    "name": "ipython",
    "version": 3
   },
   "file_extension": ".py",
   "mimetype": "text/x-python",
   "name": "python",
   "nbconvert_exporter": "python",
   "pygments_lexer": "ipython3",
   "version": "3.10.8"
  }
 },
 "nbformat": 4,
 "nbformat_minor": 5
}
