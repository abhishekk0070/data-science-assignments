{
 "cells": [
  {
   "cell_type": "code",
   "execution_count": 1,
   "id": "261f8dd6-0f52-41e0-b06c-2946ba6f1ccb",
   "metadata": {},
   "outputs": [
    {
     "data": {
      "text/plain": [
       "\"In Python, an exception is an event that occurs during the execution of a program, leading to the\\n   interruption of the normal flow of the program's instructions. When an exception occurs, the Python\\n   interpreter raises an exception, which can be caught and handled by the program.\\n   \\n   Syntax errors, on the other hand, are different from exceptions. Syntax errors occur during the parsing\\n   of code, and they indicate a grammatical problem with the code.\""
      ]
     },
     "execution_count": 1,
     "metadata": {},
     "output_type": "execute_result"
    }
   ],
   "source": [
    "#ans1\n",
    "'''In Python, an exception is an event that occurs during the execution of a program, leading to the\n",
    "   interruption of the normal flow of the program's instructions. When an exception occurs, the Python\n",
    "   interpreter raises an exception, which can be caught and handled by the program.\n",
    "   \n",
    "   Syntax errors, on the other hand, are different from exceptions. Syntax errors occur during the parsing\n",
    "   of code, and they indicate a grammatical problem with the code.'''"
   ]
  },
  {
   "cell_type": "code",
   "execution_count": 2,
   "id": "122cb0a2-ea8a-4c90-8a98-358cf45edb8c",
   "metadata": {},
   "outputs": [
    {
     "ename": "ZeroDivisionError",
     "evalue": "division by zero",
     "output_type": "error",
     "traceback": [
      "\u001b[0;31m---------------------------------------------------------------------------\u001b[0m",
      "\u001b[0;31mZeroDivisionError\u001b[0m                         Traceback (most recent call last)",
      "Cell \u001b[0;32mIn[2], line 10\u001b[0m\n\u001b[1;32m      7\u001b[0m     result \u001b[38;5;241m=\u001b[39m \u001b[38;5;241m10\u001b[39m \u001b[38;5;241m/\u001b[39m \u001b[38;5;241m0\u001b[39m  \u001b[38;5;66;03m# This will raise a ZeroDivisionError\u001b[39;00m\n\u001b[1;32m      9\u001b[0m \u001b[38;5;28;01mtry\u001b[39;00m:\n\u001b[0;32m---> 10\u001b[0m     \u001b[43mexample_function\u001b[49m\u001b[43m(\u001b[49m\u001b[43m)\u001b[49m\n\u001b[1;32m     11\u001b[0m \u001b[38;5;28;01mexcept\u001b[39;00m \u001b[38;5;167;01mValueError\u001b[39;00m \u001b[38;5;28;01mas\u001b[39;00m e:\n\u001b[1;32m     12\u001b[0m     \u001b[38;5;28mprint\u001b[39m(\u001b[38;5;124mf\u001b[39m\u001b[38;5;124m\"\u001b[39m\u001b[38;5;124mCaught an exception: \u001b[39m\u001b[38;5;132;01m{\u001b[39;00me\u001b[38;5;132;01m}\u001b[39;00m\u001b[38;5;124m\"\u001b[39m)\n",
      "Cell \u001b[0;32mIn[2], line 7\u001b[0m, in \u001b[0;36mexample_function\u001b[0;34m()\u001b[0m\n\u001b[1;32m      6\u001b[0m \u001b[38;5;28;01mdef\u001b[39;00m \u001b[38;5;21mexample_function\u001b[39m():\n\u001b[0;32m----> 7\u001b[0m     result \u001b[38;5;241m=\u001b[39m \u001b[38;5;241;43m10\u001b[39;49m\u001b[43m \u001b[49m\u001b[38;5;241;43m/\u001b[39;49m\u001b[43m \u001b[49m\u001b[38;5;241;43m0\u001b[39;49m\n",
      "\u001b[0;31mZeroDivisionError\u001b[0m: division by zero"
     ]
    }
   ],
   "source": [
    "#ans2\n",
    "'''If an exception is not caught (with a catch block), the runtime system will abort the program\n",
    "   (i.e. crash) and an exception message will print to the console. The message typically includes:\n",
    "   name of exception type.'''\n",
    "#example:\n",
    "def example_function():\n",
    "    result = 10 / 0  # This will raise a ZeroDivisionError\n",
    "\n",
    "try:\n",
    "    example_function()\n",
    "except ValueError as e:\n",
    "    print(f\"Caught an exception: {e}\")\n",
    "\n",
    "# The exception from example_function() is not caught in this block\n",
    "print(\"This line will not be executed if an exception occurs in example_function.\")\n"
   ]
  },
  {
   "cell_type": "code",
   "execution_count": 3,
   "id": "bd763a57-83bf-4834-aeca-95050ce1125a",
   "metadata": {},
   "outputs": [
    {
     "name": "stdout",
     "output_type": "stream",
     "text": [
      "The result of 10 / 2 is: 5.0\n",
      "This will be executed no matter what.\n",
      "Error: division by zero\n",
      "This will be executed no matter what.\n"
     ]
    }
   ],
   "source": [
    "#ans3\n",
    "'''In Python, the try, except, else, and finally statements are used for catching and handling exceptions.\n",
    "   These statements allow you to write code that can gracefully respond to unexpected situations, such as\n",
    "   errors or exceptional conditions.'''\n",
    "\n",
    "#example:\n",
    "def divide_numbers(a, b):\n",
    "    try:\n",
    "        result = a / b  # This might raise a ZeroDivisionError\n",
    "    except ZeroDivisionError as e:\n",
    "        print(f\"Error: {e}\")\n",
    "    else:\n",
    "        print(f\"The result of {a} / {b} is: {result}\")\n",
    "    finally:\n",
    "        print(\"This will be executed no matter what.\")\n",
    "\n",
    "# Example usages\n",
    "divide_numbers(10, 2)  \n",
    "divide_numbers(10, 0)   \n",
    "\n",
    "\n",
    "    "
   ]
  },
  {
   "cell_type": "code",
   "execution_count": 4,
   "id": "7f0bee06-a01d-43fb-9694-4fd015d0b57e",
   "metadata": {},
   "outputs": [
    {
     "name": "stdin",
     "output_type": "stream",
     "text": [
      "enter a number 123\n"
     ]
    },
    {
     "name": "stdout",
     "output_type": "stream",
     "text": [
      "the number is: 123\n"
     ]
    }
   ],
   "source": [
    "#ans4\n",
    "#1. try and except block\n",
    "'''Certainly! The else block in a try and except structure is executed if no exceptions are raised in the \n",
    "   try block. Here's an example:'''\n",
    "try:\n",
    "    num=int(input(\"enter a number\"))\n",
    "except ValueError as e:\n",
    "    print(e)\n",
    "else:\n",
    "    print(\"the number is:\",num)\n"
   ]
  },
  {
   "cell_type": "code",
   "execution_count": 5,
   "id": "95fc4998-1914-4a47-8a19-f9159e898d57",
   "metadata": {},
   "outputs": [
    {
     "name": "stdin",
     "output_type": "stream",
     "text": [
      "enter a number abhi\n"
     ]
    },
    {
     "name": "stdout",
     "output_type": "stream",
     "text": [
      "invalid literal for int() with base 10: 'abhi'\n",
      "the finally block is executed in any condition whether the exception is raised or not\n"
     ]
    }
   ],
   "source": [
    "#2.finally block\n",
    "'''the finally block is executed in any condition whether the exception is raised or not'''\n",
    "try:\n",
    "    num=int(input(\"enter a number\"))\n",
    "except ValueError as e:\n",
    "    print(e)\n",
    "finally:\n",
    "    print(\"the finally block is executed in any condition whether the exception is raised or not\")"
   ]
  },
  {
   "cell_type": "code",
   "execution_count": 6,
   "id": "0d1b5ba5-5825-446c-a3dc-96442e74eec5",
   "metadata": {},
   "outputs": [
    {
     "name": "stdin",
     "output_type": "stream",
     "text": [
      "enter your age 456\n"
     ]
    },
    {
     "ename": "validateage",
     "evalue": "age is too high",
     "output_type": "error",
     "traceback": [
      "\u001b[0;31m---------------------------------------------------------------------------\u001b[0m",
      "\u001b[0;31mvalidateage\u001b[0m                               Traceback (most recent call last)",
      "Cell \u001b[0;32mIn[6], line 12\u001b[0m\n\u001b[1;32m     10\u001b[0m     \u001b[38;5;28;01mraise\u001b[39;00m validateage(\u001b[38;5;124m\"\u001b[39m\u001b[38;5;124mage cannot be negative\u001b[39m\u001b[38;5;124m\"\u001b[39m)\n\u001b[1;32m     11\u001b[0m \u001b[38;5;28;01melif\u001b[39;00m age\u001b[38;5;241m>\u001b[39m\u001b[38;5;241m200\u001b[39m:\n\u001b[0;32m---> 12\u001b[0m     \u001b[38;5;28;01mraise\u001b[39;00m validateage(\u001b[38;5;124m\"\u001b[39m\u001b[38;5;124mage is too high\u001b[39m\u001b[38;5;124m\"\u001b[39m)\n\u001b[1;32m     13\u001b[0m \u001b[38;5;28;01melse\u001b[39;00m:\n\u001b[1;32m     14\u001b[0m     \u001b[38;5;28mprint\u001b[39m(\u001b[38;5;124m\"\u001b[39m\u001b[38;5;124mage is valid\u001b[39m\u001b[38;5;124m\"\u001b[39m)\n",
      "\u001b[0;31mvalidateage\u001b[0m: age is too high"
     ]
    }
   ],
   "source": [
    "#3.raise\n",
    "'''The raise keyword in Python is used to explicitly raise an exception. You can use it to signal that\n",
    "   an error or exceptional situation has occurred in your code.'''\n",
    "class validateage(Exception):\n",
    "    def __init__(self,msg):\n",
    "        self.msg=msg\n",
    "age=int(input(\"enter your age\"))\n",
    "\n",
    "if age<0:\n",
    "    raise validateage(\"age cannot be negative\")\n",
    "elif age>200:\n",
    "    raise validateage(\"age is too high\")\n",
    "else:\n",
    "    print(\"age is valid\")\n"
   ]
  },
  {
   "cell_type": "code",
   "execution_count": 7,
   "id": "ffe57073-2aab-4d24-be90-9f341ca675b8",
   "metadata": {},
   "outputs": [
    {
     "name": "stdout",
     "output_type": "stream",
     "text": [
      "Error: Input must be a non-negative number.\n"
     ]
    }
   ],
   "source": [
    "#ans5\n",
    "'''Custom exceptions can be used to handle specific errors in a more meaningful and appropriate manner, \n",
    "   leading to better error handling and improved reliability of the code.'''\n",
    "class NegativeValueError(ValueError):\n",
    "    pass\n",
    "\n",
    "def calculate_square_root(x):\n",
    "    if x < 0:\n",
    "        raise NegativeValueError(\"Input must be a non-negative number.\")\n",
    "    else:\n",
    "        return x ** 0.5\n",
    "\n",
    "try:\n",
    "    result = calculate_square_root(-4)\n",
    "    print(\"Result:\", result)\n",
    "except NegativeValueError as nve:\n",
    "    print(f\"Error: {nve}\")\n",
    "\n"
   ]
  },
  {
   "cell_type": "code",
   "execution_count": 8,
   "id": "9d72578c-ab83-4ed2-aced-dc4ced39f4f8",
   "metadata": {},
   "outputs": [
    {
     "name": "stdout",
     "output_type": "stream",
     "text": [
      "A New Exception occurred:  6\n"
     ]
    }
   ],
   "source": [
    "#ans6\n",
    "class MyError(Exception):\n",
    " \n",
    "    # Constructor or Initializer\n",
    "    def __init__(self, value):\n",
    "        self.value = value\n",
    " \n",
    "    # __str__ is to print() the value\n",
    "    def __str__(self):\n",
    "        return(repr(self.value))\n",
    " \n",
    " \n",
    "try:\n",
    "    raise(MyError(3*2))\n",
    " \n",
    " # Value of Exception is stored in error\n",
    "except MyError as error:\n",
    "    print('A New Exception occurred: ', error.value)"
   ]
  },
  {
   "cell_type": "code",
   "execution_count": null,
   "id": "4af61ebd-e2ce-464d-8f29-bcae0add0c15",
   "metadata": {},
   "outputs": [],
   "source": []
  }
 ],
 "metadata": {
  "kernelspec": {
   "display_name": "Python 3 (ipykernel)",
   "language": "python",
   "name": "python3"
  },
  "language_info": {
   "codemirror_mode": {
    "name": "ipython",
    "version": 3
   },
   "file_extension": ".py",
   "mimetype": "text/x-python",
   "name": "python",
   "nbconvert_exporter": "python",
   "pygments_lexer": "ipython3",
   "version": "3.10.8"
  }
 },
 "nbformat": 4,
 "nbformat_minor": 5
}
