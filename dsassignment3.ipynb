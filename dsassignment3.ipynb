{
 "cells": [
  {
   "cell_type": "code",
   "execution_count": 1,
   "id": "d20dcced-cd5d-4f76-999a-52180d66de24",
   "metadata": {},
   "outputs": [
    {
     "name": "stdout",
     "output_type": "stream",
     "text": [
      "('Virat Kohli', 24936)\n",
      "('Jack Kallis', 25534)\n",
      "('Ricky Ponting', 27483)\n",
      "('Sachin Tendulkar', 34357)\n"
     ]
    }
   ],
   "source": [
    "#ans1\n",
    "data=[('Sachin Tendulkar', 34357), ('Ricky Ponting', 27483), ('Jack Kallis', 25534), ('Virat Kohli', 24936)]\n",
    "sorted_data=sorted(data,key=lambda x:x[1])\n",
    "for i in sorted_data:\n",
    "    print(i)"
   ]
  },
  {
   "cell_type": "code",
   "execution_count": 2,
   "id": "36d698dc-0e38-48a6-8b4b-8cdca268ca90",
   "metadata": {},
   "outputs": [
    {
     "name": "stdout",
     "output_type": "stream",
     "text": [
      "[1, 4, 9, 16, 25, 36, 49, 64, 81, 100]\n"
     ]
    }
   ],
   "source": [
    "#ans2\n",
    "data=[1, 2, 3, 4, 5, 6, 7, 8, 9, 10]\n",
    "squared_data=list(map(lambda x:x**2,data))\n",
    "print(squared_data)"
   ]
  },
  {
   "cell_type": "code",
   "execution_count": 3,
   "id": "c17ec010-10d4-46fa-8ce2-c6b94dd63f89",
   "metadata": {},
   "outputs": [
    {
     "name": "stdout",
     "output_type": "stream",
     "text": [
      "('1', '2', '3', '4', '5', '6', '7', '8', '9', '10')\n"
     ]
    }
   ],
   "source": [
    "#ans3\n",
    "list1=[1, 2, 3, 4, 5, 6, 7, 8, 9, 10]\n",
    "tup=tuple(map(lambda x:str(x),list1))\n",
    "print(tup)"
   ]
  },
  {
   "cell_type": "code",
   "execution_count": 4,
   "id": "706b0680-1d92-4ca4-a601-90cf1d92eeec",
   "metadata": {},
   "outputs": [
    {
     "name": "stdout",
     "output_type": "stream",
     "text": [
      "[1, 2, 3, 4, 5, 6, 7, 8, 9, 10, 11, 12, 13, 14, 15, 16, 17, 18, 19, 20, 21, 22, 23, 24, 25]\n",
      "sum of all numbers in the list= 325\n"
     ]
    }
   ],
   "source": [
    "#ans4\n",
    "from functools import reduce\n",
    "list1=[]\n",
    "i=1\n",
    "while i<=25:\n",
    "    list1.append(i)\n",
    "    i+=1\n",
    "print(list1)\n",
    "sum1=reduce(lambda x,y:x+y,list1)\n",
    "print('sum of all numbers in the list=',sum1)\n"
   ]
  },
  {
   "cell_type": "code",
   "execution_count": 5,
   "id": "fce46c24-6c25-4b30-b9f6-b13bfb13c679",
   "metadata": {},
   "outputs": [
    {
     "name": "stdout",
     "output_type": "stream",
     "text": [
      "numbers divisible by 2 and 3= [6, 60, 90, 120]\n"
     ]
    }
   ],
   "source": [
    "#ans5\n",
    "list1=[2, 3, 6, 9, 27, 60, 90, 120, 55, 46]\n",
    "result=list(filter(lambda x:x%2==0 and x%3==0,list1))\n",
    "print('numbers divisible by 2 and 3=',result)"
   ]
  },
  {
   "cell_type": "code",
   "execution_count": 6,
   "id": "08d6b6b3-c809-4907-99ac-7d2f03b944ed",
   "metadata": {},
   "outputs": [
    {
     "name": "stdout",
     "output_type": "stream",
     "text": [
      "palindrome in the given list= ['php', 'aba', 'radar', 'level']\n"
     ]
    }
   ],
   "source": [
    "#ans6\n",
    "list1=['python', 'php', 'aba', 'radar', 'level']\n",
    "result=list(filter(lambda x:x==x[::-1],list1))\n",
    "print('palindrome in the given list=',result)"
   ]
  },
  {
   "cell_type": "code",
   "execution_count": null,
   "id": "93726372-5299-499a-801b-a57dbd078939",
   "metadata": {},
   "outputs": [],
   "source": []
  }
 ],
 "metadata": {
  "kernelspec": {
   "display_name": "Python 3 (ipykernel)",
   "language": "python",
   "name": "python3"
  },
  "language_info": {
   "codemirror_mode": {
    "name": "ipython",
    "version": 3
   },
   "file_extension": ".py",
   "mimetype": "text/x-python",
   "name": "python",
   "nbconvert_exporter": "python",
   "pygments_lexer": "ipython3",
   "version": "3.10.8"
  }
 },
 "nbformat": 4,
 "nbformat_minor": 5
}
