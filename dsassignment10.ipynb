{
 "cells": [
  {
   "cell_type": "code",
   "execution_count": 1,
   "id": "d3ffaadf-d904-4eb8-8efe-b27669aa7455",
   "metadata": {},
   "outputs": [],
   "source": [
    "#ans1\n",
    "class vehicle:\n",
    "    def __init__(self,name_of_vehicle,max_speed,average_of_vehicle):\n",
    "        self.vehicle_name=name_of_vehicle\n",
    "        self.max_speed=max_speed\n",
    "        self.avg_speed=average_of_vehicle\n",
    "        \n",
    "    def vehicle_info(self):\n",
    "        return self.vehicle_name,self.max_speed,self.avg_speed"
   ]
  },
  {
   "cell_type": "code",
   "execution_count": 2,
   "id": "fec9b678-82d1-4e12-9016-6a5ed2311788",
   "metadata": {},
   "outputs": [],
   "source": [
    "vehicle_obj=vehicle('maruti_800','120_km/hr','25_km/lit')"
   ]
  },
  {
   "cell_type": "code",
   "execution_count": 3,
   "id": "c874d873-9dbd-4d32-a816-f721d2ba7d84",
   "metadata": {},
   "outputs": [
    {
     "data": {
      "text/plain": [
       "('maruti_800', '120_km/hr', '25_km/lit')"
      ]
     },
     "execution_count": 3,
     "metadata": {},
     "output_type": "execute_result"
    }
   ],
   "source": [
    "vehicle_obj.vehicle_info()"
   ]
  },
  {
   "cell_type": "code",
   "execution_count": 4,
   "id": "4ecfbbae-ef84-4901-a375-78a33d36fdff",
   "metadata": {},
   "outputs": [
    {
     "name": "stdout",
     "output_type": "stream",
     "text": [
      "Name: Generic Vehicle, Max Speed: 100 km/h\n",
      "Name: Sedan Car, Max Speed: 180 km/h\n",
      "Sedan Car has a seating capacity of 5 passengers.\n"
     ]
    }
   ],
   "source": [
    "#ans2\n",
    "class Vehicle:\n",
    "    def __init__(self, name, max_speed):\n",
    "        self.name = name\n",
    "        self.max_speed = max_speed\n",
    "\n",
    "    def display_info(self):\n",
    "        return f\"Name: {self.name}, Max Speed: {self.max_speed} km/h\"\n",
    "\n",
    "class Car(Vehicle):\n",
    "    def __init__(self, name, max_speed):\n",
    "        super().__init__(name, max_speed)\n",
    "\n",
    "    def seating_capacity(self, capacity):\n",
    "        return f\"{self.name} has a seating capacity of {capacity} passengers.\"\n",
    "\n",
    "# Example usage:\n",
    "vehicle1 = Vehicle(\"Generic Vehicle\", 100)\n",
    "car1 = Car(\"Sedan Car\", 180)\n",
    "\n",
    "print(vehicle1.display_info())  \n",
    "print(car1.display_info())      \n",
    "print(car1.seating_capacity(5)) \n"
   ]
  },
  {
   "cell_type": "code",
   "execution_count": 5,
   "id": "74e8fa2b-b65e-4527-92b2-bfb53eb32152",
   "metadata": {},
   "outputs": [],
   "source": [
    "#ans3\n",
    "'''Multiple inheritance is a feature in object-oriented programming where a class can inherit \n",
    "   attributes and methods from more than one parent class. In other words, a class can have multiple \n",
    "   parent classes, and it inherits features from all of them. This allows you to create complex class\n",
    "   hierarchies and share functionality from multiple sources.'''\n",
    "#example:\n",
    "class person:\n",
    "    def __init__(self,name,age):\n",
    "        self.name=name\n",
    "        self.age=age\n",
    "\n",
    "class address:\n",
    "    def __init__(self,district,state):\n",
    "        self.district=district\n",
    "        self.state=state\n",
    "        \n",
    "class residence(person,address):\n",
    "    def __init__(self,name,age,district,state):\n",
    "        person.__init__(self,name,age)\n",
    "        address.__init__(self,district,state)\n",
    "        \n",
    "    def residence_info(self):\n",
    "        return f\"Name:{self.name},Age:{self.age},Residence:{self.district},{self.state}\"\n",
    "        \n",
    "        \n",
    "    \n"
   ]
  },
  {
   "cell_type": "code",
   "execution_count": 6,
   "id": "55c2320b-27d2-4799-ba69-c2d3b69f807b",
   "metadata": {},
   "outputs": [],
   "source": [
    "obj=residence('abhishek',24,'jaipur','rajasthan')"
   ]
  },
  {
   "cell_type": "code",
   "execution_count": 7,
   "id": "5d21de8a-9362-4bc2-87aa-da618d56690d",
   "metadata": {},
   "outputs": [
    {
     "data": {
      "text/plain": [
       "'Name:abhishek,Age:24,Residence:jaipur,rajasthan'"
      ]
     },
     "execution_count": 7,
     "metadata": {},
     "output_type": "execute_result"
    }
   ],
   "source": [
    "obj.residence_info()"
   ]
  },
  {
   "cell_type": "code",
   "execution_count": 8,
   "id": "daa3a748-9517-496f-8ce7-bca716c003de",
   "metadata": {},
   "outputs": [],
   "source": [
    "#ans4\n",
    "'''In Python, getter and setter methods are used to control access to the attributes (instance variables)\n",
    "   of a class. They allow you to get and set the values of attributes in a controlled way, often used to implement\n",
    "   data encapsulation and ensure data integrity.'''\n",
    "#example:\n",
    "class student:\n",
    "    def __init__(self,name,age):\n",
    "        self._name=name\n",
    "        self._age=age\n",
    "   \n",
    "    def get_name(self):\n",
    "        return self._name\n",
    "    \n",
    "    def set_name(self,name):\n",
    "        if isinstance(name,str):\n",
    "            self._name=name\n",
    "        else:\n",
    "            print(\"name is not a string\")\n",
    "   \n",
    "    def get_age(self):\n",
    "        return self._age\n",
    "    \n",
    "    def set_age(self,age):\n",
    "        if isinstance(age,int) and age>=0:\n",
    "            self._age=age\n",
    "        else:\n",
    "            print(\"age must be a non negative integer\")"
   ]
  },
  {
   "cell_type": "code",
   "execution_count": 9,
   "id": "58d9fd96-e11c-49f4-ba1e-d2818a02834c",
   "metadata": {},
   "outputs": [],
   "source": [
    "stu=student(\"abhishek\",24)"
   ]
  },
  {
   "cell_type": "code",
   "execution_count": 10,
   "id": "ce0afab2-3885-47ab-b98c-9ef2dc3d27b3",
   "metadata": {},
   "outputs": [
    {
     "name": "stdout",
     "output_type": "stream",
     "text": [
      "abhishek\n",
      "24\n"
     ]
    }
   ],
   "source": [
    "print(stu.get_name())\n",
    "print(stu.get_age())"
   ]
  },
  {
   "cell_type": "code",
   "execution_count": 11,
   "id": "e6699f76-997d-46ae-bdcc-aa2ed427c77d",
   "metadata": {},
   "outputs": [],
   "source": [
    "stu.set_name(\"abhi\")"
   ]
  },
  {
   "cell_type": "code",
   "execution_count": 12,
   "id": "9ba5bd95-e9db-46be-8b5f-b73830c9ae84",
   "metadata": {},
   "outputs": [],
   "source": [
    "stu.set_age(23)"
   ]
  },
  {
   "cell_type": "code",
   "execution_count": 13,
   "id": "0d3a4350-859c-4c01-9bd6-f1114eae3574",
   "metadata": {},
   "outputs": [
    {
     "name": "stdout",
     "output_type": "stream",
     "text": [
      "abhi\n",
      "23\n"
     ]
    }
   ],
   "source": [
    "print(stu.get_name())\n",
    "print(stu.get_age())"
   ]
  },
  {
   "cell_type": "code",
   "execution_count": 14,
   "id": "70f33fff-4bb1-4295-b790-175849016cfb",
   "metadata": {},
   "outputs": [],
   "source": [
    "#ans5\n",
    "'''Method overriding in Python is a feature that allows a subclass to provide a specific implementation\n",
    "   of a method that is already defined in its superclass. When a subclass defines a method with the same \n",
    "   name as a method in its superclass, the method in the subclass overrides the method in the superclass.\n",
    "   This allows you to provide specialized behavior for the method in the subclass while retaining the method's\n",
    "   name and signature.'''\n",
    "#example:\n",
    "class animal:\n",
    "    def speaks(self):\n",
    "        print(\"animal makes a sound\")\n",
    "class dog(animal):\n",
    "    def speaks(self):\n",
    "        print(\"dog barks\")\n",
    "class cat(animal):\n",
    "    def speaks(self):\n",
    "        print(\"cat meows\")\n",
    "    "
   ]
  },
  {
   "cell_type": "code",
   "execution_count": 15,
   "id": "64806965-e19a-4d4c-bec8-aef9f8ee1ee7",
   "metadata": {},
   "outputs": [],
   "source": [
    "ani_mal=animal()\n",
    "Dog=dog()\n",
    "Cat=cat()"
   ]
  },
  {
   "cell_type": "code",
   "execution_count": 16,
   "id": "fd1cf506-d560-4a8f-82ed-ef0e469bb71f",
   "metadata": {},
   "outputs": [
    {
     "name": "stdout",
     "output_type": "stream",
     "text": [
      "animal makes a sound\n",
      "dog barks\n",
      "cat meows\n"
     ]
    }
   ],
   "source": [
    "ani_mal.speaks()\n",
    "Dog.speaks()\n",
    "Cat.speaks()"
   ]
  },
  {
   "cell_type": "code",
   "execution_count": null,
   "id": "2a458a50-f397-4b78-b0de-8d60e74f3adb",
   "metadata": {},
   "outputs": [],
   "source": []
  }
 ],
 "metadata": {
  "kernelspec": {
   "display_name": "Python 3 (ipykernel)",
   "language": "python",
   "name": "python3"
  },
  "language_info": {
   "codemirror_mode": {
    "name": "ipython",
    "version": 3
   },
   "file_extension": ".py",
   "mimetype": "text/x-python",
   "name": "python",
   "nbconvert_exporter": "python",
   "pygments_lexer": "ipython3",
   "version": "3.10.8"
  }
 },
 "nbformat": 4,
 "nbformat_minor": 5
}
