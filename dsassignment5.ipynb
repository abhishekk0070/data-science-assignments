{
 "cells": [
  {
   "cell_type": "code",
   "execution_count": 1,
   "id": "4a4ae76e-3987-44aa-966d-6a7de40caf2d",
   "metadata": {},
   "outputs": [
    {
     "data": {
      "text/plain": [
       "'Python was developed by Guido van Rossum.'"
      ]
     },
     "execution_count": 1,
     "metadata": {},
     "output_type": "execute_result"
    }
   ],
   "source": [
    "#ans1\n",
    "'''Python was developed by Guido van Rossum.'''"
   ]
  },
  {
   "cell_type": "code",
   "execution_count": 2,
   "id": "4ae06603-d7eb-49f2-9dac-56c64c7655a2",
   "metadata": {},
   "outputs": [
    {
     "data": {
      "text/plain": [
       "'Python is a versatile and multipurpose programming language that supports several programming paradigms\\n   1.Object-Oriented Programming oop\\n   2.functional programming\\n   3.procedural programming\\n   4.scripting\\n   5.dynamic typing etc.'"
      ]
     },
     "execution_count": 2,
     "metadata": {},
     "output_type": "execute_result"
    }
   ],
   "source": [
    "#ans2\n",
    "'''Python is a versatile and multipurpose programming language that supports several programming paradigms\n",
    "   1.Object-Oriented Programming oop\n",
    "   2.functional programming\n",
    "   3.procedural programming\n",
    "   4.scripting\n",
    "   5.dynamic typing etc.'''"
   ]
  },
  {
   "cell_type": "code",
   "execution_count": 3,
   "id": "d9a0b17a-c488-4131-8ae1-41ad257ff27e",
   "metadata": {},
   "outputs": [
    {
     "data": {
      "text/plain": [
       "'yes, python is case sensitive when dealing with identifiers'"
      ]
     },
     "execution_count": 3,
     "metadata": {},
     "output_type": "execute_result"
    }
   ],
   "source": [
    "#ans3\n",
    "'''yes, python is case sensitive when dealing with identifiers'''"
   ]
  },
  {
   "cell_type": "code",
   "execution_count": 4,
   "id": "1a5102ec-448c-4908-88ec-23147ae330d1",
   "metadata": {},
   "outputs": [
    {
     "data": {
      "text/plain": [
       "'the correct extension of python file is \".py\"'"
      ]
     },
     "execution_count": 4,
     "metadata": {},
     "output_type": "execute_result"
    }
   ],
   "source": [
    "#ans4\n",
    "'''the correct extension of python file is \".py\"'''"
   ]
  },
  {
   "cell_type": "code",
   "execution_count": 5,
   "id": "ecd362b1-7b52-4a4b-af1f-2112200f1ba3",
   "metadata": {},
   "outputs": [
    {
     "data": {
      "text/plain": [
       "'Python is both compiled and interpreted because Python uses a two-step process:\\n   1.Compilation\\n   2.Interpretation'"
      ]
     },
     "execution_count": 5,
     "metadata": {},
     "output_type": "execute_result"
    }
   ],
   "source": [
    "#ans5\n",
    "'''Python is both compiled and interpreted because Python uses a two-step process:\n",
    "   1.Compilation\n",
    "   2.Interpretation'''"
   ]
  },
  {
   "cell_type": "code",
   "execution_count": 6,
   "id": "4b61dd76-179f-497b-a079-13350bd85124",
   "metadata": {},
   "outputs": [
    {
     "data": {
      "text/plain": [
       "'A Python program is constructed from code blocks.\\nA block is a piece of Python program text that is executed as a unit.\\nThe following are blocks: a module, a function body, and a class definition.'"
      ]
     },
     "execution_count": 6,
     "metadata": {},
     "output_type": "execute_result"
    }
   ],
   "source": [
    "#ans6\n",
    "'''A Python program is constructed from code blocks.\n",
    "A block is a piece of Python program text that is executed as a unit.\n",
    "The following are blocks: a module, a function body, and a class definition.'''"
   ]
  },
  {
   "cell_type": "code",
   "execution_count": 7,
   "id": "c2bafc70-b51b-4b81-b6dd-31add5275fd1",
   "metadata": {},
   "outputs": [
    {
     "data": {
      "text/plain": [
       "'We can write a single-line comment by adding a single # character before any statement or line of code.'"
      ]
     },
     "execution_count": 7,
     "metadata": {},
     "output_type": "execute_result"
    }
   ],
   "source": [
    "#ans7\n",
    "'''We can write a single-line comment by adding a single # character before any statement or line of code.'''"
   ]
  },
  {
   "cell_type": "code",
   "execution_count": 8,
   "id": "52edaf35-afbc-463b-97ed-22bf7115c523",
   "metadata": {},
   "outputs": [
    {
     "data": {
      "text/plain": [
       "\"You can use the built-in 'sys. version' method to check the version of Python that is currently being used.\""
      ]
     },
     "execution_count": 8,
     "metadata": {},
     "output_type": "execute_result"
    }
   ],
   "source": [
    "#ans8\n",
    "'''You can use the built-in 'sys. version' method to check the version of Python that is currently being used.'''"
   ]
  },
  {
   "cell_type": "code",
   "execution_count": 9,
   "id": "b0d7cbc4-b233-4b95-8b17-1127d685064a",
   "metadata": {},
   "outputs": [
    {
     "data": {
      "text/plain": [
       "'Python supports the creation of anonymous functions at runtime, using a construct called lambda.'"
      ]
     },
     "execution_count": 9,
     "metadata": {},
     "output_type": "execute_result"
    }
   ],
   "source": [
    "#ans9\n",
    "'''Python supports the creation of anonymous functions at runtime, using a construct called lambda.'''"
   ]
  },
  {
   "cell_type": "code",
   "execution_count": 10,
   "id": "9d9c58d7-6fd1-4963-9531-a68895d48d3d",
   "metadata": {},
   "outputs": [
    {
     "data": {
      "text/plain": [
       "'PIP is a recursive acronym for “Preferred Installer Program” or PIP Installs Packages.\\nIt is a command-line utility that installs, reinstalls, or uninstalls PyPI packages with\\none simple command: pip.'"
      ]
     },
     "execution_count": 10,
     "metadata": {},
     "output_type": "execute_result"
    }
   ],
   "source": [
    "#ans10\n",
    "'''PIP is a recursive acronym for “Preferred Installer Program” or PIP Installs Packages.\n",
    "It is a command-line utility that installs, reinstalls, or uninstalls PyPI packages with\n",
    "one simple command: pip.'''"
   ]
  },
  {
   "cell_type": "code",
   "execution_count": 11,
   "id": "22787b6a-9ff1-4332-9fd4-53b021b368cc",
   "metadata": {},
   "outputs": [
    {
     "data": {
      "text/plain": [
       "'Few built in python function are:\\n   1.lambda\\n   2.map\\n   3.filter\\n   4.reduce\\n   5.reverse\\n   6.sum etc'"
      ]
     },
     "execution_count": 11,
     "metadata": {},
     "output_type": "execute_result"
    }
   ],
   "source": [
    "#ans11\n",
    "'''Few built in python function are:\n",
    "   1.lambda\n",
    "   2.map\n",
    "   3.filter\n",
    "   4.reduce\n",
    "   5.reverse\n",
    "   6.sum etc'''"
   ]
  },
  {
   "cell_type": "code",
   "execution_count": 12,
   "id": "5c3805b8-0e60-42f3-b85f-1258811b5845",
   "metadata": {},
   "outputs": [
    {
     "data": {
      "text/plain": [
       "'An identifier can have a maximum length of 79 characters in Python. '"
      ]
     },
     "execution_count": 12,
     "metadata": {},
     "output_type": "execute_result"
    }
   ],
   "source": [
    "#ans12\n",
    "'''An identifier can have a maximum length of 79 characters in Python. '''"
   ]
  },
  {
   "cell_type": "code",
   "execution_count": 13,
   "id": "1fe67181-adff-46a8-88d0-13f7616b4d55",
   "metadata": {},
   "outputs": [
    {
     "data": {
      "text/plain": [
       "'1.Presence of third-party modules.\\n   2.Extensive support libraries(NumPy for numerical calculations, Pandas for data analytics, etc.)\\n   3.Open source and large active community base.\\n   4.Versatile, Easy to read, learn and write.\\n   5.User-friendly data structures.\\n   6,High-level language.'"
      ]
     },
     "execution_count": 13,
     "metadata": {},
     "output_type": "execute_result"
    }
   ],
   "source": [
    "#ans13\n",
    "'''1.Presence of third-party modules.\n",
    "   2.Extensive support libraries(NumPy for numerical calculations, Pandas for data analytics, etc.)\n",
    "   3.Open source and large active community base.\n",
    "   4.Versatile, Easy to read, learn and write.\n",
    "   5.User-friendly data structures.\n",
    "   6,High-level language.'''"
   ]
  },
  {
   "cell_type": "code",
   "execution_count": 14,
   "id": "a3f6ea1c-d5ad-4fdf-b78b-1971fa176eec",
   "metadata": {},
   "outputs": [
    {
     "data": {
      "text/plain": [
       "'Memory management in Python involves a private heap containing all Python objects and data structures.\\n   The management of this private heap is ensured internally by the Python memory manager.'"
      ]
     },
     "execution_count": 14,
     "metadata": {},
     "output_type": "execute_result"
    }
   ],
   "source": [
    "#ans14\n",
    "'''Memory management in Python involves a private heap containing all Python objects and data structures.\n",
    "   The management of this private heap is ensured internally by the Python memory manager.'''"
   ]
  },
  {
   "cell_type": "code",
   "execution_count": 15,
   "id": "bec7f5d2-ac2a-4940-945f-9e3f59eec8e7",
   "metadata": {},
   "outputs": [
    {
     "data": {
      "text/plain": [
       "' steps to install python:\\n        Step 1 − Select Version of Python to Install. \\n        Step 2 − Download Python Executable Installer. \\n        Step 3 − Run Executable Installer. \\n        Step 4 − Verify Python is installed on Windows. \\n        Step 5 − Verify Pip was installed.\\n    \\n    steps to add path variables:\\n        Step 1 −Right click on My Computer and click on properties.\\n        Step 2 −Click on Advanced System settings. \\n        Step 3 −Click on Environment Variable tab. \\n        Step 4 −Click on new tab of user variables. \\n        Step 5 −Write path in variable name. \\n        Step 6 −Copy the path of Python folder.\\n        Step 7 −Paste path of Python in variable value.'"
      ]
     },
     "execution_count": 15,
     "metadata": {},
     "output_type": "execute_result"
    }
   ],
   "source": [
    "#ans15\n",
    "''' steps to install python:\n",
    "        Step 1 − Select Version of Python to Install. \n",
    "        Step 2 − Download Python Executable Installer. \n",
    "        Step 3 − Run Executable Installer. \n",
    "        Step 4 − Verify Python is installed on Windows. \n",
    "        Step 5 − Verify Pip was installed.\n",
    "    \n",
    "    steps to add path variables:\n",
    "        Step 1 −Right click on My Computer and click on properties.\n",
    "        Step 2 −Click on Advanced System settings. \n",
    "        Step 3 −Click on Environment Variable tab. \n",
    "        Step 4 −Click on new tab of user variables. \n",
    "        Step 5 −Write path in variable name. \n",
    "        Step 6 −Copy the path of Python folder.\n",
    "        Step 7 −Paste path of Python in variable value.'''\n",
    "    "
   ]
  },
  {
   "cell_type": "code",
   "execution_count": 16,
   "id": "3d63201b-c314-4c9a-9fc4-a3d2506ede7a",
   "metadata": {},
   "outputs": [
    {
     "data": {
      "text/plain": [
       "'Indentation is a very important concept of Python because without properly indenting \\n   the Python code, you will end up seeing IndentationError and the code will not get compiled.'"
      ]
     },
     "execution_count": 16,
     "metadata": {},
     "output_type": "execute_result"
    }
   ],
   "source": [
    "#ans16\n",
    "'''Indentation is a very important concept of Python because without properly indenting \n",
    "   the Python code, you will end up seeing IndentationError and the code will not get compiled.'''"
   ]
  },
  {
   "cell_type": "code",
   "execution_count": null,
   "id": "b9073a55-1506-406c-859b-f8bdc0a073c1",
   "metadata": {},
   "outputs": [],
   "source": []
  }
 ],
 "metadata": {
  "kernelspec": {
   "display_name": "Python 3 (ipykernel)",
   "language": "python",
   "name": "python3"
  },
  "language_info": {
   "codemirror_mode": {
    "name": "ipython",
    "version": 3
   },
   "file_extension": ".py",
   "mimetype": "text/x-python",
   "name": "python",
   "nbconvert_exporter": "python",
   "pygments_lexer": "ipython3",
   "version": "3.10.8"
  }
 },
 "nbformat": 4,
 "nbformat_minor": 5
}
