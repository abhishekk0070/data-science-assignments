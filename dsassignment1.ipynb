{
 "cells": [
  {
   "cell_type": "code",
   "execution_count": 1,
   "id": "7c90c3fd-8726-495f-88f0-9dae249c76dd",
   "metadata": {},
   "outputs": [
    {
     "name": "stdout",
     "output_type": "stream",
     "text": [
      "2\n",
      "4\n",
      "6\n",
      "8\n",
      "10\n",
      "12\n",
      "14\n",
      "16\n",
      "18\n",
      "20\n",
      "Hello pwskills\n",
      "Hello pwskills\n",
      "Hello pwskills\n"
     ]
    }
   ],
   "source": [
    "#ans1\n",
    "#for loop\n",
    "#For loop is used when the number of iterations is already known.\n",
    "#ex=printing table of 2\n",
    "for i in range(1,11):\n",
    "        print(2*i)\n",
    "    \n",
    "#while loop\n",
    "#While loop is used when the number of iterations is already Unknown.\n",
    "#ex=\n",
    "count = 0\n",
    "while (count < 3):\n",
    "    count = count + 1\n",
    "    print(\"Hello pwskills\")"
   ]
  },
  {
   "cell_type": "code",
   "execution_count": 2,
   "id": "805d8f44-429f-4ba6-870e-0a5434ed7ebf",
   "metadata": {},
   "outputs": [
    {
     "name": "stdout",
     "output_type": "stream",
     "text": [
      "sum of first 10 natural numbers using for loop= 55\n",
      "product of first 10 natural numbers using for loop= 3628800\n",
      "sum of first 10 natural numbers using while loop= 55\n",
      "product of first 10 natural numbers using while loop= 3628800\n"
     ]
    }
   ],
   "source": [
    "#Ans 2\n",
    "#sum of first 10 natural numbers using for loop\n",
    "sum1=0\n",
    "for i in range(1,11):\n",
    "    sum1=sum1+i\n",
    "print(\"sum of first 10 natural numbers using for loop=\",sum1)\n",
    "\n",
    "#product of first 10 natural numbers using for loop\n",
    "product=1\n",
    "for i in range(1,11):\n",
    "    product=product*i\n",
    "print(\"product of first 10 natural numbers using for loop=\",product)\n",
    "\n",
    "#sum of first 10 natural numbers using while loop\n",
    "sum2=0\n",
    "i = 1\n",
    "while i <= 10:\n",
    "    sum2+=i\n",
    "    i += 1\n",
    "print(\"sum of first 10 natural numbers using while loop=\",sum2)\n",
    "\n",
    "#product of first 10 natural numbers using while loop\n",
    "product=1\n",
    "i = 1\n",
    "while i <= 10:\n",
    "    product*=i\n",
    "    i += 1\n",
    "print(\"product of first 10 natural numbers using while loop=\",product)"
   ]
  },
  {
   "cell_type": "code",
   "execution_count": 3,
   "id": "514d9d66-1aca-4965-b4c3-bfe1aa13a71e",
   "metadata": {},
   "outputs": [
    {
     "name": "stdin",
     "output_type": "stream",
     "text": [
      "enter the no. of units of electricity consumed in 1 month: 310\n"
     ]
    },
    {
     "name": "stdout",
     "output_type": "stream",
     "text": [
      "bill= 2250.0\n"
     ]
    }
   ],
   "source": [
    "#ans3\n",
    "unit=int(input(\"enter the no. of units of electricity consumed in 1 month:\"))\n",
    "if (unit<=100):\n",
    "    bill=4.5*unit\n",
    "    print(\"bill=\",bill)\n",
    "elif(unit>100 and unit<=200):\n",
    "    bill=4.5*100+(unit-100)*6.0\n",
    "    print(\"bill=\",bill)\n",
    "elif(unit>200 and unit<=300):\n",
    "    bill=4.5*100+6.0*100+(unit-200)*10.0\n",
    "    print(\"bill=\",bill)\n",
    "elif(unit>300):\n",
    "    bill=4.5*100+6.0*100+10.0*100+(unit-300)*20\n",
    "    print(\"bill=\",bill)"
   ]
  },
  {
   "cell_type": "code",
   "execution_count": 4,
   "id": "4c3645fe-c6ed-4eb2-96b9-dc834dfd8c13",
   "metadata": {},
   "outputs": [
    {
     "name": "stdout",
     "output_type": "stream",
     "text": [
      "[1, 2, 3, 4, 5, 6, 7, 8, 9, 10, 11, 12, 13, 14, 15, 16, 17, 18, 19, 20, 21, 22, 23, 24, 25, 26, 27, 28, 29, 30, 31, 32, 33, 34, 35, 36, 37, 38, 39, 40, 41, 42, 43, 44, 45, 46, 47, 48, 49, 50, 51, 52, 53, 54, 55, 56, 57, 58, 59, 60, 61, 62, 63, 64, 65, 66, 67, 68, 69, 70, 71, 72, 73, 74, 75, 76, 77, 78, 79, 80, 81, 82, 83, 84, 85, 86, 87, 88, 89, 90, 91, 92, 93, 94, 95, 96, 97, 98, 99, 100]\n",
      "\n",
      "list of cube of a number which are divisible by 4 or 5 = [8, 64, 125, 216, 512, 1000, 1728, 2744, 3375, 4096, 5832, 8000, 10648, 13824, 15625, 17576, 21952, 27000, 32768, 39304, 42875, 46656, 54872, 64000, 74088, 85184, 91125, 97336, 110592, 125000, 140608, 157464, 166375, 175616, 195112, 216000, 238328, 262144, 274625, 287496, 314432, 343000, 373248, 405224, 421875, 438976, 474552, 512000, 551368, 592704, 614125, 636056, 681472, 729000, 778688, 830584, 857375, 884736, 941192, 1000000]\n"
     ]
    }
   ],
   "source": [
    "#ans 4 \n",
    "# by using for loop\n",
    "l1=[]\n",
    "l2=[]\n",
    "for i in range(1,101):\n",
    "    l1.append(i)\n",
    "print(l1)\n",
    "for i in l1:\n",
    "    cube=i**3\n",
    "    if(cube%4==0 or cube%5==0):\n",
    "        l2.append(cube)\n",
    "print()\n",
    "print(\"list of cube of a number which are divisible by 4 or 5 =\",l2)    "
   ]
  },
  {
   "cell_type": "code",
   "execution_count": 5,
   "id": "2c3a6968-6c94-4c9d-a081-7add94f8d42e",
   "metadata": {},
   "outputs": [
    {
     "name": "stdout",
     "output_type": "stream",
     "text": [
      "[1, 2, 3, 4, 5, 6, 7, 8, 9, 10, 11, 12, 13, 14, 15, 16, 17, 18, 19, 20, 21, 22, 23, 24, 25, 26, 27, 28, 29, 30, 31, 32, 33, 34, 35, 36, 37, 38, 39, 40, 41, 42, 43, 44, 45, 46, 47, 48, 49, 50, 51, 52, 53, 54, 55, 56, 57, 58, 59, 60, 61, 62, 63, 64, 65, 66, 67, 68, 69, 70, 71, 72, 73, 74, 75, 76, 77, 78, 79, 80, 81, 82, 83, 84, 85, 86, 87, 88, 89, 90, 91, 92, 93, 94, 95, 96, 97, 98, 99, 100]\n",
      "\n",
      "list of cube of a number which are divisible by 4 or 5 = [8, 64, 125, 216, 512, 1000, 1728, 2744, 3375, 4096, 5832, 8000, 10648, 13824, 15625, 17576, 21952, 27000, 32768, 39304, 42875, 46656, 54872, 64000, 74088, 85184, 91125, 97336, 110592, 125000, 140608, 157464, 166375, 175616, 195112, 216000, 238328, 262144, 274625, 287496, 314432, 343000, 373248, 405224, 421875, 438976, 474552, 512000, 551368, 592704, 614125, 636056, 681472, 729000, 778688, 830584, 857375, 884736, 941192, 1000000]\n"
     ]
    }
   ],
   "source": [
    "#ans 4 \n",
    "# by using while loop\n",
    "l3=[]\n",
    "l4=[]\n",
    "i=1\n",
    "while i<=100:\n",
    "    l3.append(i)\n",
    "    i+=1\n",
    "print(l3)\n",
    "index=0\n",
    "while index<len(l3):\n",
    "    cube=l3[index]**3\n",
    "    if(cube%4==0 or cube%5==0):\n",
    "        l4.append(cube)\n",
    "    index+=1\n",
    "print()\n",
    "print(\"list of cube of a number which are divisible by 4 or 5 =\",l4)"
   ]
  },
  {
   "cell_type": "code",
   "execution_count": 7,
   "id": "e3d4d948-2e1c-4bd1-96cb-694f3e8d5f88",
   "metadata": {},
   "outputs": [
    {
     "name": "stdout",
     "output_type": "stream",
     "text": [
      "no. of vowels in the strint= 12\n"
     ]
    }
   ],
   "source": [
    "string=\"I want to become a data scientist\"\n",
    "vowel=\"AEIOUaeiou\"\n",
    "count=0\n",
    "i=0\n",
    "for char in string:\n",
    "    if char in vowel:\n",
    "        count+=1\n",
    "print(\"no. of vowels in the strint=\",count)\n",
    "        "
   ]
  },
  {
   "cell_type": "code",
   "execution_count": null,
   "id": "5abf3d21-8006-40b0-a9ad-c66e5dc4c516",
   "metadata": {},
   "outputs": [],
   "source": []
  }
 ],
 "metadata": {
  "kernelspec": {
   "display_name": "Python 3 (ipykernel)",
   "language": "python",
   "name": "python3"
  },
  "language_info": {
   "codemirror_mode": {
    "name": "ipython",
    "version": 3
   },
   "file_extension": ".py",
   "mimetype": "text/x-python",
   "name": "python",
   "nbconvert_exporter": "python",
   "pygments_lexer": "ipython3",
   "version": "3.10.8"
  }
 },
 "nbformat": 4,
 "nbformat_minor": 5
}
