{
 "cells": [
  {
   "cell_type": "code",
   "execution_count": 1,
   "id": "89df3ee1-1e44-426c-9f21-cd5cd2cf0e23",
   "metadata": {},
   "outputs": [
    {
     "name": "stdout",
     "output_type": "stream",
     "text": [
      "0\n",
      "1\n",
      "2\n",
      "3\n",
      "4\n",
      "A\n",
      "B\n",
      "C\n",
      "D\n",
      "E\n"
     ]
    }
   ],
   "source": [
    "#ans1\n",
    "'''multithreading= Multithreading in Python refers to the concurrent execution of multiple threads(smaller units\n",
    "of a process)to achieve parallelism and improve the performance of a program. A thread is the smallest unit of\n",
    "execution,and multithreading allows different threads to run concurrently, making better use of system resources.\n",
    "'''\n",
    "#uses of multithreading\n",
    "'''Multithreading is used in Python for several reasons:\n",
    "\n",
    "Parallelism: It allows different parts of a program to run concurrently, taking advantage of multiple CPU cores\n",
    "and speeding up the execution of tasks.\n",
    "\n",
    "Responsive User Interface: In GUI applications, multithreading can be used to keep the user interface responsive\n",
    "while performing time-consuming tasks in the background.\n",
    "\n",
    "I/O-Bound Operations: For tasks that involve waiting for I/O operations (such as reading from or writing to\n",
    "files, network operations, etc.), multithreading can be beneficial as it allows other threads to continue\n",
    "execution while one is waiting.'''\n",
    "\n",
    "#module used for multithreading\n",
    "'''In Python, the threading module is commonly used to handle threads. The threading module provides a way to\n",
    "create and manage threads, allowing you to write concurrent code. Each thread has its own set of variables and\n",
    "runs independently, sharing resources like memory space.'''\n",
    "\n",
    "#example:\n",
    "import threading\n",
    "\n",
    "def print_numbers():\n",
    "    for i in range(5):\n",
    "        print(i)\n",
    "\n",
    "def print_letters():\n",
    "    for letter in 'ABCDE':\n",
    "        print(letter)\n",
    "\n",
    "# Create two threads\n",
    "thread1 = threading.Thread(target=print_numbers)\n",
    "thread2 = threading.Thread(target=print_letters)\n",
    "\n",
    "# Start the threads\n",
    "thread1.start()\n",
    "thread2.start()\n",
    "\n",
    "# Wait for both threads to finish\n",
    "thread1.join()\n",
    "thread2.join()\n",
    "\n",
    "\n"
   ]
  },
  {
   "cell_type": "code",
   "execution_count": 2,
   "id": "d47ca5ca-02ba-4789-a896-9d4b4a6314ce",
   "metadata": {},
   "outputs": [
    {
     "name": "stdout",
     "output_type": "stream",
     "text": [
      "thread is runningnumber of live threads: 9\n",
      "\n"
     ]
    }
   ],
   "source": [
    "#ans2\n",
    "#uses of threading module\n",
    "'''The threading module in Python is used for creating and managing threads. A thread is a lightweight process,\n",
    "   and using threads can help in executing multiple tasks concurrently, making better use of available resources\n",
    "   and potentially improving program performance. Here are explanations for the functions you mentioned:\n",
    "   \n",
    "1.activeCount():\n",
    "   This function returns the number of Thread objects currently alive. A Thread object is considered alive from\n",
    "   the time the start() method is called until the thread's run() method completes or raises an unhandled\n",
    "   exception.'''\n",
    "   \n",
    "#Example1:\n",
    "import threading\n",
    "def my_function():\n",
    "    print(\"thread is running\")\n",
    "thread=threading.Thread(target=my_function)\n",
    "thread.start()\n",
    "print(\"number of live threads:\",threading.active_count())"
   ]
  },
  {
   "cell_type": "code",
   "execution_count": 3,
   "id": "4a5021ed-8500-4651-acc4-a171f4449c99",
   "metadata": {},
   "outputs": [
    {
     "name": "stdout",
     "output_type": "stream",
     "text": [
      "current thread name is: Thread-8 (print_current_thread)\n"
     ]
    }
   ],
   "source": [
    "'''currentThread():\n",
    "      This function returns the current Thread object corresponding to the caller's thread of control.\n",
    "      It's useful to identify the thread from within the thread itself.'''\n",
    "#Example2:\n",
    "import threading\n",
    "def print_current_thread():\n",
    "    current_thread=threading.current_thread()\n",
    "    print(\"current thread name is:\",current_thread.name)\n",
    "    \n",
    "my_thread=threading.Thread(target=print_current_thread)\n",
    "my_thread.start()\n",
    "    "
   ]
  },
  {
   "cell_type": "code",
   "execution_count": 4,
   "id": "b6470ea4-a925-4eee-bc7b-ac468446390c",
   "metadata": {},
   "outputs": [
    {
     "name": "stdout",
     "output_type": "stream",
     "text": [
      "executing the function\n",
      "executing the function\n",
      "list of threads running: [<_MainThread(MainThread, started 139957074151232)>, <Thread(IOPub, started daemon 139957003621952)>, <Heartbeat(Heartbeat, started daemon 139956995229248)>, <Thread(Thread-3 (_watch_pipe_fd), started daemon 139956970051136)>, <Thread(Thread-4 (_watch_pipe_fd), started daemon 139956961658432)>, <ControlThread(Control, started daemon 139956609611328)>, <HistorySavingThread(IPythonHistorySavingThread, started 139956601218624)>, <ParentPollerUnix(Thread-2, started daemon 139956592825920)>]\n"
     ]
    }
   ],
   "source": [
    "'''enumerate() function:\n",
    "      This function returns a list of all Thread objects currently alive.'''\n",
    "#example3:\n",
    "import threading\n",
    "def my_func():\n",
    "    print(\"executing the function\")\n",
    "thread1=threading.Thread(target=my_func)\n",
    "thread2=threading.Thread(target=my_func)\n",
    "\n",
    "thread1.start()\n",
    "thread2.start()\n",
    "thread_list=threading.enumerate()\n",
    "print(\"list of threads running:\",thread_list)\n"
   ]
  },
  {
   "cell_type": "code",
   "execution_count": 5,
   "id": "c25cface-271f-4a45-ac9a-d42ad4843d91",
   "metadata": {},
   "outputs": [
    {
     "name": "stdout",
     "output_type": "stream",
     "text": [
      "Thread is running\n"
     ]
    }
   ],
   "source": [
    "#ans3\n",
    "'''1.run() method:\n",
    "     The run() method is the entry point for the thread's activity. When a Thread object is created, you can\n",
    "     override the run() method in a subclass to define the code that will be executed when the thread is\n",
    "     started.'''\n",
    "#example:\n",
    "import threading\n",
    "\n",
    "class MyThread(threading.Thread):\n",
    "    def run(self):\n",
    "        print(\"Thread is running\")\n",
    "\n",
    "# Create and start the thread\n",
    "my_thread = MyThread()\n",
    "my_thread.start()"
   ]
  },
  {
   "cell_type": "code",
   "execution_count": 6,
   "id": "f7e48ff1-fd03-420e-8816-2fbf1768c9d0",
   "metadata": {},
   "outputs": [
    {
     "name": "stdout",
     "output_type": "stream",
     "text": [
      "function is executed\n"
     ]
    }
   ],
   "source": [
    "'''2.start() method:\n",
    "     The start() method is used to begin the execution of the thread. It starts a new, separate thread of\n",
    "     execution, and the run() method will be invoked in that thread.'''\n",
    "#example:\n",
    "import threading\n",
    "\n",
    "def function1():\n",
    "    print(\"function is executed\")\n",
    "thread=threading.Thread(target=function1)\n",
    "thread.start()"
   ]
  },
  {
   "cell_type": "code",
   "execution_count": 7,
   "id": "93ebe83c-74ef-4b3b-93c4-8522512ab1ca",
   "metadata": {},
   "outputs": [
    {
     "name": "stdout",
     "output_type": "stream",
     "text": [
      "function is executed\n",
      "thread is completed\n"
     ]
    }
   ],
   "source": [
    "'''3.join([timeout]) method:\n",
    "     The join() method is used to wait for the thread to complete its execution. If you call join() on a \n",
    "     thread, the program will block (not move on to the next line) until the thread being joined has completed.\n",
    "     You can also specify an optional timeout argument to specify the maximum time to wait.'''\n",
    "#example:\n",
    "import threading\n",
    "\n",
    "def function2():\n",
    "    print(\"function2 is executed successfully\")\n",
    "thread=threading.Thread(target=function1)\n",
    "thread.start()\n",
    "\n",
    "thread.join()\n",
    "print(\"thread is completed\")"
   ]
  },
  {
   "cell_type": "code",
   "execution_count": 8,
   "id": "6a5fa306-0d7e-48a4-9214-2c2eab7a3cdf",
   "metadata": {},
   "outputs": [
    {
     "name": "stdout",
     "output_type": "stream",
     "text": [
      "thread is completed\n"
     ]
    }
   ],
   "source": [
    "'''4.isAlive() method:\n",
    "     The isAlive() method is used to check whether the thread is currently executing or alive.\n",
    "     It returns True if the thread is alive, and False otherwise.'''\n",
    "#example:\n",
    "import threading\n",
    "import time\n",
    "\n",
    "def function3():\n",
    "    time.sleep(2)\n",
    "thread=threading.Thread(target=function3)\n",
    "thread.start()\n",
    "thread.join()\n",
    "\n",
    "if thread.is_alive():\n",
    "    print(\"thread is still alive\")\n",
    "else:\n",
    "    print(\"thread is completed\")"
   ]
  },
  {
   "cell_type": "code",
   "execution_count": 9,
   "id": "26935f20-b4d6-48bc-a381-0d6625e0deee",
   "metadata": {},
   "outputs": [],
   "source": [
    "#ans4\n",
    "l=[2,3,4,5,6,7,8]\n",
    "list_of_sqares=[]\n",
    "list_of_cubes=[]\n",
    "\n",
    "import threading\n",
    "\n",
    "def squares(sqr):\n",
    "    for i in sqr:\n",
    "        i=i**2\n",
    "        list_of_sqares.append(i)\n",
    "    print(\"list of squares=\",list_of_sqares)\n",
    "\n",
    "def cubes(cube):\n",
    "    for i in cube:\n",
    "        i=i**3\n",
    "        list_of_cubes.append(i)\n",
    "    print(\"list of cubes=\",list_of_cubes)\n",
    "    \n",
    "thread1=[threading.Thread(target=squares,args=(l,))]\n",
    "thread2=[threading.Thread(target=cubes,args=(l,))]\n",
    "    "
   ]
  },
  {
   "cell_type": "code",
   "execution_count": 10,
   "id": "3e91c828-9bec-4605-9b7d-1d3a75f94fc3",
   "metadata": {},
   "outputs": [
    {
     "name": "stdout",
     "output_type": "stream",
     "text": [
      "list of squares= [4, 9, 16, 25, 36, 49, 64]\n",
      "list of cubes= [8, 27, 64, 125, 216, 343, 512]\n"
     ]
    }
   ],
   "source": [
    "for t in thread1+thread2:\n",
    "    t.start()\n",
    "for t in thread1+thread2:\n",
    "    t.join()"
   ]
  },
  {
   "cell_type": "code",
   "execution_count": 11,
   "id": "bd772df6-105f-406a-b17e-c245b419a3a2",
   "metadata": {},
   "outputs": [
    {
     "data": {
      "text/plain": [
       "\"Multithreading, the concurrent execution of more than one sequential set of instructions, comes with both \\nadvantages and disadvantages. Here's an overview:\\n\\nAdvantages:\\n\\n1.Parallelism: The primary advantage of multithreading is parallelism. Multiple threads can execute\\nindependently, enabling the execution of tasks simultaneously. This is particularly beneficial in applications\\nthat can be divided into smaller, independent subtasks.\\n\\n2.Responsiveness: Multithreading allows for the creation of responsive user interfaces. While one thread is\\nbusy with a time-consuming task, other threads can handle user input, ensuring that the application remains\\nresponsive.\\n\\n3.Resource Sharing: Threads within a process share the same resources, such as memory space. This can lead \\nto more efficient resource utilization and reduced overhead compared to multiple independent processes.\\n\\n4.Efficient I/O Handling: Multithreading is well-suited for I/O-bound tasks. While one thread is waiting for\\nI/O operations to complete, other threads can continue processing.\\n\\n5.Simplified Program Structure: In some cases, multithreading can simplify the structure of a program.\\nTasks can be organized into separate threads, making the code more modular and easier to understand.\\n\\nDisadvantages:\\n\\n1.Complexity: Multithreading introduces complexity, especially in terms of synchronization and coordination\\nbetween threads. Managing shared resources and preventing race conditions can be challenging and may lead to\\nsubtle bugs that are hard to detect and fix.\\n\\n2.Deadlocks: When multiple threads contend for resources, deadlock situations can occur. Deadlocks are\\nsituations where each thread is waiting for a resource that another thread holds, leading to a standstill.\\n\\n3.Race Conditions: Race conditions can arise when multiple threads access shared resources concurrently without\\nproper synchronization. This can lead to unpredictable and erroneous behavior in the program.\\n\\n4.Difficulty in Debugging: Identifying and debugging issues in multithreaded programs can be more challenging\\nthan in single-threaded programs. Issues may be intermittent and depend on the timing of thread execution.\\n\\n5.Increased Memory Overhead: Each thread within a process requires its own stack and thread-specific data,\\nleading to increased memory overhead compared to a single-threaded application.\""
      ]
     },
     "execution_count": 11,
     "metadata": {},
     "output_type": "execute_result"
    }
   ],
   "source": [
    "#ans5\n",
    "'''Multithreading, the concurrent execution of more than one sequential set of instructions, comes with both \n",
    "advantages and disadvantages. Here's an overview:\n",
    "\n",
    "Advantages:\n",
    "\n",
    "1.Parallelism: The primary advantage of multithreading is parallelism. Multiple threads can execute\n",
    "independently, enabling the execution of tasks simultaneously. This is particularly beneficial in applications\n",
    "that can be divided into smaller, independent subtasks.\n",
    "\n",
    "2.Responsiveness: Multithreading allows for the creation of responsive user interfaces. While one thread is\n",
    "busy with a time-consuming task, other threads can handle user input, ensuring that the application remains\n",
    "responsive.\n",
    "\n",
    "3.Resource Sharing: Threads within a process share the same resources, such as memory space. This can lead \n",
    "to more efficient resource utilization and reduced overhead compared to multiple independent processes.\n",
    "\n",
    "4.Efficient I/O Handling: Multithreading is well-suited for I/O-bound tasks. While one thread is waiting for\n",
    "I/O operations to complete, other threads can continue processing.\n",
    "\n",
    "5.Simplified Program Structure: In some cases, multithreading can simplify the structure of a program.\n",
    "Tasks can be organized into separate threads, making the code more modular and easier to understand.\n",
    "\n",
    "Disadvantages:\n",
    "\n",
    "1.Complexity: Multithreading introduces complexity, especially in terms of synchronization and coordination\n",
    "between threads. Managing shared resources and preventing race conditions can be challenging and may lead to\n",
    "subtle bugs that are hard to detect and fix.\n",
    "\n",
    "2.Deadlocks: When multiple threads contend for resources, deadlock situations can occur. Deadlocks are\n",
    "situations where each thread is waiting for a resource that another thread holds, leading to a standstill.\n",
    "\n",
    "3.Race Conditions: Race conditions can arise when multiple threads access shared resources concurrently without\n",
    "proper synchronization. This can lead to unpredictable and erroneous behavior in the program.\n",
    "\n",
    "4.Difficulty in Debugging: Identifying and debugging issues in multithreaded programs can be more challenging\n",
    "than in single-threaded programs. Issues may be intermittent and depend on the timing of thread execution.\n",
    "\n",
    "5.Increased Memory Overhead: Each thread within a process requires its own stack and thread-specific data,\n",
    "leading to increased memory overhead compared to a single-threaded application.'''"
   ]
  },
  {
   "cell_type": "code",
   "execution_count": 12,
   "id": "ecfe359f-d33d-43ca-96bb-f12664635916",
   "metadata": {},
   "outputs": [
    {
     "data": {
      "text/plain": [
       "'\\n1.Deadlocks:\\nA deadlock is a situation in a multithreaded or multiprocess environment where two or more threads or\\nprocesses cannot proceed because each is waiting for the other to release a resource. Essentially, a deadlock\\noccurs when a set of processes or threads are blocked because each process or thread is holding a resource and\\nwaiting for another resource acquired by some other process or thread in the set.\\n\\n2.Race Conditions:\\nA race condition is a situation in which the behavior of a program depends on the relative timing of events,\\nsuch as the order in which threads are scheduled to run. It occurs when multiple threads or processes access \\nshared data concurrently, and the final outcome depends on the timing or order of their execution.'"
      ]
     },
     "execution_count": 12,
     "metadata": {},
     "output_type": "execute_result"
    }
   ],
   "source": [
    "#ans6\n",
    "'''\n",
    "1.Deadlocks:\n",
    "A deadlock is a situation in a multithreaded or multiprocess environment where two or more threads or\n",
    "processes cannot proceed because each is waiting for the other to release a resource. Essentially, a deadlock\n",
    "occurs when a set of processes or threads are blocked because each process or thread is holding a resource and\n",
    "waiting for another resource acquired by some other process or thread in the set.\n",
    "\n",
    "2.Race Conditions:\n",
    "A race condition is a situation in which the behavior of a program depends on the relative timing of events,\n",
    "such as the order in which threads are scheduled to run. It occurs when multiple threads or processes access \n",
    "shared data concurrently, and the final outcome depends on the timing or order of their execution.'''"
   ]
  },
  {
   "cell_type": "code",
   "execution_count": null,
   "id": "e530b4e1-1ec7-46c5-b53f-ee798a68e420",
   "metadata": {},
   "outputs": [],
   "source": []
  }
 ],
 "metadata": {
  "kernelspec": {
   "display_name": "Python 3 (ipykernel)",
   "language": "python",
   "name": "python3"
  },
  "language_info": {
   "codemirror_mode": {
    "name": "ipython",
    "version": 3
   },
   "file_extension": ".py",
   "mimetype": "text/x-python",
   "name": "python",
   "nbconvert_exporter": "python",
   "pygments_lexer": "ipython3",
   "version": "3.10.8"
  }
 },
 "nbformat": 4,
 "nbformat_minor": 5
}
