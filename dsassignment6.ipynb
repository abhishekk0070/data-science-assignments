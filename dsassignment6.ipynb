{
 "cells": [
  {
   "cell_type": "code",
   "execution_count": 1,
   "id": "6edb266b-f356-423d-8364-5d4ca828034e",
   "metadata": {},
   "outputs": [
    {
     "name": "stdin",
     "output_type": "stream",
     "text": [
      "enter your percentage: 95\n"
     ]
    },
    {
     "name": "stdout",
     "output_type": "stream",
     "text": [
      "You got Grade A\n"
     ]
    }
   ],
   "source": [
    "#ans1\n",
    "percentage=int(input(\"enter your percentage:\"))\n",
    "if(percentage>90):\n",
    "    print('You got Grade A')\n",
    "elif(percentage>80 and percentage<=90):\n",
    "     print('You got Grade B')\n",
    "elif(percentage>60 and percentage<=80):\n",
    "     print('You got Grade C')\n",
    "elif(percentage>0 and percentage<=60):\n",
    "     print('You got Grade D')\n",
    "else:\n",
    "    print('invalid entry')\n",
    "    "
   ]
  },
  {
   "cell_type": "code",
   "execution_count": 2,
   "id": "6fb30987-65d9-4d43-8440-2be6aa1e3aea",
   "metadata": {},
   "outputs": [
    {
     "name": "stdin",
     "output_type": "stream",
     "text": [
      "enter your cost price: 67000\n"
     ]
    },
    {
     "name": "stdout",
     "output_type": "stream",
     "text": [
      "Road Tax to be Paid=10%\n"
     ]
    }
   ],
   "source": [
    "#ans2\n",
    "Cost_price=int(input(\"enter your cost price:\"))\n",
    "if(Cost_price>100000):\n",
    "    print('Road Tax to be Paid=15%')\n",
    "elif(Cost_price>50000 and Cost_price<=100000):\n",
    "    print('Road Tax to be Paid=10%')\n",
    "elif(Cost_price>0 and Cost_price<=50000):\n",
    "    print('Road Tax to be Paid=5%')\n",
    "else:\n",
    "    print('invalid entry')"
   ]
  },
  {
   "cell_type": "code",
   "execution_count": 3,
   "id": "0002625f-3b02-4171-82aa-4847fac6793d",
   "metadata": {},
   "outputs": [
    {
     "name": "stdin",
     "output_type": "stream",
     "text": [
      "choose among delhi,agra or jaipur: jaipur\n"
     ]
    },
    {
     "name": "stdout",
     "output_type": "stream",
     "text": [
      "Monument of jaipur=Jal Mahal\n"
     ]
    }
   ],
   "source": [
    "#ans3\n",
    "city=input(\"choose among delhi,agra or jaipur:\")\n",
    "city_lower=city.lower()\n",
    "if(city_lower=='delhi'):\n",
    "    print('Monument of delhi=Red Fort')\n",
    "elif(city_lower=='agra'):\n",
    "    print('Monument of agra=Taj Mahal')\n",
    "elif(city_lower=='jaipur'):\n",
    "    print('Monument of jaipur=Jal Mahal')\n",
    "else:\n",
    "    print('invalid entry')"
   ]
  },
  {
   "cell_type": "code",
   "execution_count": 4,
   "id": "ee2595e9-22bc-4e7a-9345-435ae73a9746",
   "metadata": {},
   "outputs": [
    {
     "name": "stdin",
     "output_type": "stream",
     "text": [
      "enter the number: 150\n"
     ]
    },
    {
     "name": "stdout",
     "output_type": "stream",
     "text": [
      "3\n"
     ]
    }
   ],
   "source": [
    "#ans4\n",
    "num=int(input(\"enter the number:\"))\n",
    "count=0\n",
    "while num>10:\n",
    "    num=int(num/3)\n",
    "    count+=1\n",
    "print(count)"
   ]
  },
  {
   "cell_type": "code",
   "execution_count": 5,
   "id": "7164e1d4-e077-47c1-8c3e-2a62d7a0758c",
   "metadata": {},
   "outputs": [
    {
     "name": "stdin",
     "output_type": "stream",
     "text": [
      "Enter your password:  password123\n"
     ]
    },
    {
     "name": "stdout",
     "output_type": "stream",
     "text": [
      "Access granted!\n"
     ]
    }
   ],
   "source": [
    "#ans5\n",
    "'''A while loop is a fundamental control structure in programming that allows you to execute\n",
    "   a block of code repeatedly as long as a specified condition is true. It's used when you want \n",
    "   to perform a task multiple times until a certain condition is met or becomes false.'''\n",
    "correct_password = \"password123\"\n",
    "user_input = input(\"Enter your password: \")\n",
    "\n",
    "while user_input != correct_password:\n",
    "    print(\"Incorrect password. Try again.\")\n",
    "    user_input = input(\"Enter your password: \")\n",
    "\n",
    "print(\"Access granted!\")\n"
   ]
  },
  {
   "cell_type": "code",
   "execution_count": 6,
   "id": "d3065f30-fe25-43c4-9924-c1b5e05c0233",
   "metadata": {},
   "outputs": [
    {
     "name": "stdin",
     "output_type": "stream",
     "text": [
      "enter number of rows: 5\n"
     ]
    },
    {
     "name": "stdout",
     "output_type": "stream",
     "text": [
      "*\n",
      "**\n",
      "***\n",
      "****\n",
      "*****\n"
     ]
    }
   ],
   "source": [
    "#ans6\n",
    "#pattern 1\n",
    "rows=int(input('enter number of rows:'))\n",
    "i=1\n",
    "while i<=rows:\n",
    "    j=1\n",
    "    while j<=i:\n",
    "        print('*',end='')\n",
    "        j+=1\n",
    "    print()\n",
    "    i+=1"
   ]
  },
  {
   "cell_type": "code",
   "execution_count": 7,
   "id": "aaf46cce-17fc-4ff0-b517-b62e6e5ee8db",
   "metadata": {},
   "outputs": [
    {
     "name": "stdin",
     "output_type": "stream",
     "text": [
      "enter number of rows and coloumns: 5\n"
     ]
    },
    {
     "name": "stdout",
     "output_type": "stream",
     "text": [
      "*****\n",
      "*****\n",
      "*****\n",
      "*****\n",
      "*****\n"
     ]
    }
   ],
   "source": [
    "#pattern 2\n",
    "n=int(input('enter number of rows and coloumns:'))\n",
    "rows=1\n",
    "while rows<=n:\n",
    "    col=1\n",
    "    while col<=n:\n",
    "        print('*',end='')\n",
    "        col+=1\n",
    "    print()\n",
    "    rows+=1"
   ]
  },
  {
   "cell_type": "code",
   "execution_count": 8,
   "id": "62f559c9-a432-4e22-93b0-d0e44685bcb9",
   "metadata": {},
   "outputs": [
    {
     "name": "stdin",
     "output_type": "stream",
     "text": [
      "enter number of rows: 5\n"
     ]
    },
    {
     "name": "stdout",
     "output_type": "stream",
     "text": [
      "    *\n",
      "   ***\n",
      "  *****\n",
      " *******\n",
      "*********\n"
     ]
    }
   ],
   "source": [
    "#pattern 3\n",
    "\n",
    "n = int(input('enter number of rows:')) \n",
    "\n",
    "row = 1\n",
    "while row <= n:\n",
    "    \n",
    "    spaces = n - row\n",
    "    while spaces > 0:\n",
    "        print(' ', end='')\n",
    "        spaces -= 1\n",
    "\n",
    "    stars = 2 * row - 1\n",
    "    while stars > 0:\n",
    "        print('*', end='')\n",
    "        stars -= 1\n",
    "\n",
    "    print()\n",
    "    row += 1\n"
   ]
  },
  {
   "cell_type": "code",
   "execution_count": 9,
   "id": "2b18a7e9-4a46-4ec5-8d46-c478f9b97e7f",
   "metadata": {},
   "outputs": [
    {
     "name": "stdout",
     "output_type": "stream",
     "text": [
      "10\n",
      "9\n",
      "8\n",
      "7\n",
      "6\n",
      "5\n",
      "4\n",
      "3\n",
      "2\n",
      "1\n"
     ]
    }
   ],
   "source": [
    "#ans7\n",
    "i=10\n",
    "while i>0:\n",
    "    print(i)\n",
    "    i-=1"
   ]
  },
  {
   "cell_type": "code",
   "execution_count": 10,
   "id": "6a1b6f05-7e12-4433-94d3-3a89a923dc88",
   "metadata": {},
   "outputs": [
    {
     "name": "stdout",
     "output_type": "stream",
     "text": [
      "10\n",
      "9\n",
      "8\n",
      "7\n",
      "6\n",
      "5\n",
      "4\n",
      "3\n",
      "2\n",
      "1\n"
     ]
    }
   ],
   "source": [
    "#ans8\n",
    "i=10\n",
    "while i>0:\n",
    "    print(i)\n",
    "    i-=1"
   ]
  },
  {
   "cell_type": "code",
   "execution_count": null,
   "id": "bb048b20-ae7e-4831-959f-a1b557d545d5",
   "metadata": {},
   "outputs": [],
   "source": []
  }
 ],
 "metadata": {
  "kernelspec": {
   "display_name": "Python 3 (ipykernel)",
   "language": "python",
   "name": "python3"
  },
  "language_info": {
   "codemirror_mode": {
    "name": "ipython",
    "version": 3
   },
   "file_extension": ".py",
   "mimetype": "text/x-python",
   "name": "python",
   "nbconvert_exporter": "python",
   "pygments_lexer": "ipython3",
   "version": "3.10.8"
  }
 },
 "nbformat": 4,
 "nbformat_minor": 5
}
