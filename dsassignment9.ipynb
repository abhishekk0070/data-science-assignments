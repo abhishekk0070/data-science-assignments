{
 "cells": [
  {
   "cell_type": "code",
   "execution_count": 1,
   "id": "0206ff9f-d2bc-4a9d-b3db-dcc3432ce6f2",
   "metadata": {},
   "outputs": [
    {
     "data": {
      "text/plain": [
       "\"A key concept in object-oriented programming (OOP) is abstraction. It involves hiding an object's \\n   implementation details and only showing the user the information that is absolutely necessary\\n   \\n   An example of abstraction in computer science is application programming interfaces or APIs.\\n   An API is essentially a bridge between two applications that allows them to communicate and work together.\""
      ]
     },
     "execution_count": 1,
     "metadata": {},
     "output_type": "execute_result"
    }
   ],
   "source": [
    "#ans1\n",
    "'''A key concept in object-oriented programming (OOP) is abstraction. It involves hiding an object's \n",
    "   implementation details and only showing the user the information that is absolutely necessary\n",
    "   \n",
    "   An example of abstraction in computer science is application programming interfaces or APIs.\n",
    "   An API is essentially a bridge between two applications that allows them to communicate and work together.'''"
   ]
  },
  {
   "cell_type": "code",
   "execution_count": 2,
   "id": "48020306-68cc-4b74-b584-bc28a87c930e",
   "metadata": {},
   "outputs": [
    {
     "data": {
      "text/plain": [
       "\"abstraction focuses on showing only the essential features of an object,\\n   while encapsulation bundles the data and methods together and provides controlled access to\\n   the object's internal state.\\n   \\n   for example lets assume a BankAccount is a class that encapsulates the attributes\\n   (account_number and balance) and methods (deposit, withdraw, and get_balance) related to a bank account.\\n   The attributes are encapsulated and not directly accessible from outside the class. Instead,\\n   the class provides well-defined methods for interacting with the account, which ensures that\\n   the data is accessed and modified in a controlled manner.\""
      ]
     },
     "execution_count": 2,
     "metadata": {},
     "output_type": "execute_result"
    }
   ],
   "source": [
    "#ans2\n",
    "'''abstraction focuses on showing only the essential features of an object,\n",
    "   while encapsulation bundles the data and methods together and provides controlled access to\n",
    "   the object's internal state.\n",
    "   \n",
    "   for example lets assume a BankAccount is a class that encapsulates the attributes\n",
    "   (account_number and balance) and methods (deposit, withdraw, and get_balance) related to a bank account.\n",
    "   The attributes are encapsulated and not directly accessible from outside the class. Instead,\n",
    "   the class provides well-defined methods for interacting with the account, which ensures that\n",
    "   the data is accessed and modified in a controlled manner.'''"
   ]
  },
  {
   "cell_type": "code",
   "execution_count": 3,
   "id": "9373f6d8-0bdd-4fe7-9e30-02809931b2bb",
   "metadata": {},
   "outputs": [
    {
     "data": {
      "text/plain": [
       "'The abc module in Python stands for \"Abstract Base Classes.\" It is a module that provides\\n   the infrastructure for defining and working with abstract base classes. Abstract base classes\\n   are a way to define and enforce a common interface for a group of related classes.'"
      ]
     },
     "execution_count": 3,
     "metadata": {},
     "output_type": "execute_result"
    }
   ],
   "source": [
    "#ans3\n",
    "'''The abc module in Python stands for \"Abstract Base Classes.\" It is a module that provides\n",
    "   the infrastructure for defining and working with abstract base classes. Abstract base classes\n",
    "   are a way to define and enforce a common interface for a group of related classes.'''"
   ]
  },
  {
   "cell_type": "code",
   "execution_count": 4,
   "id": "b850b2e4-316b-4599-8d98-8e05be2cee39",
   "metadata": {},
   "outputs": [
    {
     "data": {
      "text/plain": [
       "'Data abstraction is a fundamental concept in computer science and software engineering that \\n   allows you to hide the complex implementation details of data structures and expose only the essential \\n   features and operations to the user. You can achieve data abstraction in several ways, primarily through \\n   object-oriented programming and encapsulation. Here are the key techniques to achieve data abstraction:\\n   1.Encapsulation (Object-Oriented Programming)\\n   2.Access Modifiers\\n   3.Interface and Abstract Classes (Inheritance)\\n   4.Information Hiding\\n   5.Packages and Modules (in Non-OO Languages)'"
      ]
     },
     "execution_count": 4,
     "metadata": {},
     "output_type": "execute_result"
    }
   ],
   "source": [
    "#ans4\n",
    "'''Data abstraction is a fundamental concept in computer science and software engineering that \n",
    "   allows you to hide the complex implementation details of data structures and expose only the essential \n",
    "   features and operations to the user. You can achieve data abstraction in several ways, primarily through \n",
    "   object-oriented programming and encapsulation. Here are the key techniques to achieve data abstraction:\n",
    "   1.Encapsulation (Object-Oriented Programming)\n",
    "   2.Access Modifiers\n",
    "   3.Interface and Abstract Classes (Inheritance)\n",
    "   4.Information Hiding\n",
    "   5.Packages and Modules (in Non-OO Languages)'''"
   ]
  },
  {
   "cell_type": "code",
   "execution_count": 5,
   "id": "be75e1c0-f2ff-412a-8543-b3299df560dc",
   "metadata": {},
   "outputs": [
    {
     "data": {
      "text/plain": [
       "'In most programming languages that support abstract classes, you typically cannot create an \\n   instance of an abstract class directly. An abstract class is a class that is meant to be used as\\n   a blueprint for other classes but is not meant to be instantiated itself. The primary purpose of an\\n   abstract class is to define a common interface and provide a set of methods that concrete subclasses\\n   must implement.'"
      ]
     },
     "execution_count": 5,
     "metadata": {},
     "output_type": "execute_result"
    }
   ],
   "source": [
    "#ans5\n",
    "'''In most programming languages that support abstract classes, you typically cannot create an \n",
    "   instance of an abstract class directly. An abstract class is a class that is meant to be used as\n",
    "   a blueprint for other classes but is not meant to be instantiated itself. The primary purpose of an\n",
    "   abstract class is to define a common interface and provide a set of methods that concrete subclasses\n",
    "   must implement.'''"
   ]
  },
  {
   "cell_type": "code",
   "execution_count": null,
   "id": "59f95a3a-ffc5-47eb-959d-aaea606c13b1",
   "metadata": {},
   "outputs": [],
   "source": []
  }
 ],
 "metadata": {
  "kernelspec": {
   "display_name": "Python 3 (ipykernel)",
   "language": "python",
   "name": "python3"
  },
  "language_info": {
   "codemirror_mode": {
    "name": "ipython",
    "version": 3
   },
   "file_extension": ".py",
   "mimetype": "text/x-python",
   "name": "python",
   "nbconvert_exporter": "python",
   "pygments_lexer": "ipython3",
   "version": "3.10.8"
  }
 },
 "nbformat": 4,
 "nbformat_minor": 5
}
