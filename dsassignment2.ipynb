{
 "cells": [
  {
   "cell_type": "code",
   "execution_count": 1,
   "id": "6d47faa1-5dd8-42ea-8492-b56814a8b840",
   "metadata": {},
   "outputs": [],
   "source": [
    "#ans1\n",
    "# 'def' keyword is used to create a function\n",
    "def oddnumber():\n",
    "    l=[]\n",
    "    for i in range(1,25):\n",
    "        if i%2!=0:\n",
    "            l.append(i)\n",
    "    return l\n",
    "    "
   ]
  },
  {
   "cell_type": "code",
   "execution_count": 2,
   "id": "b1422a4a-8219-44dc-8513-66c08c7e52a0",
   "metadata": {},
   "outputs": [
    {
     "data": {
      "text/plain": [
       "[1, 3, 5, 7, 9, 11, 13, 15, 17, 19, 21, 23]"
      ]
     },
     "execution_count": 2,
     "metadata": {},
     "output_type": "execute_result"
    }
   ],
   "source": [
    "oddnumber()"
   ]
  },
  {
   "cell_type": "code",
   "execution_count": 3,
   "id": "8dd2aa12-957e-48ce-a377-ad60c1472689",
   "metadata": {},
   "outputs": [],
   "source": [
    "#ans2\n",
    "# '*args' keyword is used to take multiple arguments as input dynamically by the user\n",
    "#'**kwargs' keyword is used to take multiple arguments as input  in the form of key value pair dynamically by the user\n",
    "def test1(*args):\n",
    "    return args"
   ]
  },
  {
   "cell_type": "code",
   "execution_count": 4,
   "id": "525a96e7-c599-454c-bbcd-4ef4d2973418",
   "metadata": {},
   "outputs": [
    {
     "data": {
      "text/plain": [
       "(1, 2, 3, 'abhi')"
      ]
     },
     "execution_count": 4,
     "metadata": {},
     "output_type": "execute_result"
    }
   ],
   "source": [
    "test1(1,2,3,\"abhi\")\n"
   ]
  },
  {
   "cell_type": "code",
   "execution_count": 5,
   "id": "af60f5c7-8058-43bd-be7c-5a217d848c43",
   "metadata": {},
   "outputs": [],
   "source": [
    "def test2(**kwargs):\n",
    "    return kwargs"
   ]
  },
  {
   "cell_type": "code",
   "execution_count": 6,
   "id": "16bb01ec-c4f0-4e5e-9bbc-4ed5ab715eab",
   "metadata": {},
   "outputs": [
    {
     "data": {
      "text/plain": [
       "{'name': 'abhishek', 'age': 23}"
      ]
     },
     "execution_count": 6,
     "metadata": {},
     "output_type": "execute_result"
    }
   ],
   "source": [
    "test2(name=\"abhishek\",age=23)"
   ]
  },
  {
   "cell_type": "code",
   "execution_count": 2,
   "id": "8aa3e4cc-b6a6-4d9c-96d8-7aba2cbb16af",
   "metadata": {},
   "outputs": [
    {
     "name": "stdout",
     "output_type": "stream",
     "text": [
      "2\n",
      "4\n",
      "6\n",
      "8\n",
      "10\n"
     ]
    }
   ],
   "source": [
    "#ans3\n",
    "# An iterator is an object that can be iterated upon, meaning that you can traverse through all the values.\n",
    "# The Python iterators object is initialized using the iter() method. It uses the next() method for iteration.\n",
    "list1=[2,4,6,8,10,12,14,16,18,20]\n",
    "iterator=iter(list1)\n",
    "value=next(iterator,None)\n",
    "print(value)\n",
    "value=next(iterator,None)\n",
    "print(value)\n",
    "value=next(iterator,None)\n",
    "print(value)\n",
    "value=next(iterator,None)\n",
    "print(value)\n",
    "value=next(iterator,None)\n",
    "print(value)"
   ]
  },
  {
   "cell_type": "code",
   "execution_count": 7,
   "id": "14b8475e-2f90-4eff-86ea-d1279c837012",
   "metadata": {},
   "outputs": [],
   "source": [
    "#ans4\n",
    "# generator function is used because it gives output like an iterator rather than\n",
    "# like a normal function in which whole output is given at once\n",
    "#'yield' keyword is used to create a generator function\n",
    "def counter(n):\n",
    "    i=1\n",
    "    while i<=n:\n",
    "        yield i\n",
    "        i+=1"
   ]
  },
  {
   "cell_type": "code",
   "execution_count": 8,
   "id": "244cdc5b-9323-4018-bec4-a6bfbaf56664",
   "metadata": {},
   "outputs": [],
   "source": [
    "c=counter(5)"
   ]
  },
  {
   "cell_type": "code",
   "execution_count": 9,
   "id": "5ec09c47-ff62-4817-8747-e1b154bb8ce9",
   "metadata": {},
   "outputs": [
    {
     "name": "stdout",
     "output_type": "stream",
     "text": [
      "1\n",
      "2\n",
      "3\n",
      "4\n",
      "5\n"
     ]
    }
   ],
   "source": [
    "for i in c:\n",
    "    print(i)"
   ]
  },
  {
   "cell_type": "code",
   "execution_count": 10,
   "id": "37c8529c-89f8-4b43-af5d-8e6fdf405d69",
   "metadata": {},
   "outputs": [
    {
     "name": "stdout",
     "output_type": "stream",
     "text": [
      "2\n",
      "3\n",
      "5\n",
      "7\n",
      "11\n",
      "13\n",
      "17\n",
      "19\n",
      "23\n",
      "29\n",
      "31\n",
      "37\n",
      "41\n",
      "43\n",
      "47\n",
      "53\n",
      "59\n",
      "61\n",
      "67\n",
      "71\n"
     ]
    }
   ],
   "source": [
    "#ans5\n",
    "def primes():\n",
    "    \"\"\"Create a generator function for prime numbers less than 1000.\"\"\"\n",
    "    yield 2\n",
    "    primes_list = [2]\n",
    "    for i in range(3, 1000):\n",
    "        is_prime = True\n",
    "        for prime in primes_list:\n",
    "            if i % prime == 0:\n",
    "                is_prime = False\n",
    "                break\n",
    "        if is_prime:\n",
    "            primes_list.append(i)\n",
    "            yield i\n",
    "\n",
    "prime_gen = primes()\n",
    "# the next() method to print the first 20 prime numbers.\n",
    "for i in range(20):\n",
    "    print(next(prime_gen))\n",
    "    \n",
    "    \n",
    "    \n"
   ]
  },
  {
   "cell_type": "code",
   "execution_count": 5,
   "id": "971e77c1-ba9f-45a0-8048-4c6e753935c2",
   "metadata": {},
   "outputs": [],
   "source": [
    "#ans6\n",
    "def febonaci1(n):\n",
    "    a,b=0,1\n",
    "    i=1\n",
    "    while i<=n:\n",
    "        print(a)\n",
    "        a,b=b,a+b\n",
    "        i+=1\n",
    "    "
   ]
  },
  {
   "cell_type": "code",
   "execution_count": 6,
   "id": "15523f74-bdb3-4441-b8fc-86848f72741f",
   "metadata": {},
   "outputs": [
    {
     "name": "stdout",
     "output_type": "stream",
     "text": [
      "0\n",
      "1\n",
      "1\n",
      "2\n",
      "3\n",
      "5\n",
      "8\n",
      "13\n",
      "21\n",
      "34\n"
     ]
    }
   ],
   "source": [
    "febonaci1(10)"
   ]
  },
  {
   "cell_type": "code",
   "execution_count": 9,
   "id": "8df828c1-cc5b-4926-8561-107e2f6212e4",
   "metadata": {},
   "outputs": [
    {
     "data": {
      "text/plain": [
       "['p', 'w', 's', 'k', 'i', 'l', 'l', 's']"
      ]
     },
     "execution_count": 9,
     "metadata": {},
     "output_type": "execute_result"
    }
   ],
   "source": [
    "#ans7\n",
    "string='pwskills'\n",
    "[i for i in string]"
   ]
  },
  {
   "cell_type": "code",
   "execution_count": 12,
   "id": "d6e099f1-cb64-424b-a135-30d3557176ed",
   "metadata": {},
   "outputs": [
    {
     "name": "stdin",
     "output_type": "stream",
     "text": [
      "enter a number 343\n"
     ]
    },
    {
     "name": "stdout",
     "output_type": "stream",
     "text": [
      "it is a palindrome number\n"
     ]
    }
   ],
   "source": [
    "#ans8\n",
    "num=int(input(\"enter a number\"))\n",
    "temp=num\n",
    "rev=0\n",
    "while num>0:\n",
    "    rem=num%10\n",
    "    rev=rev*10+rem\n",
    "    num=num//10\n",
    "if temp==rev:\n",
    "    print(\"it is a palindrome number\")\n",
    "else:\n",
    "    print(\"it is not a palindrome number\")\n"
   ]
  },
  {
   "cell_type": "code",
   "execution_count": 14,
   "id": "6ae5f1e4-8688-4d63-bc56-62870f5b80ee",
   "metadata": {},
   "outputs": [
    {
     "data": {
      "text/plain": [
       "[1,\n",
       " 3,\n",
       " 5,\n",
       " 7,\n",
       " 9,\n",
       " 11,\n",
       " 13,\n",
       " 15,\n",
       " 17,\n",
       " 19,\n",
       " 21,\n",
       " 23,\n",
       " 25,\n",
       " 27,\n",
       " 29,\n",
       " 31,\n",
       " 33,\n",
       " 35,\n",
       " 37,\n",
       " 39,\n",
       " 41,\n",
       " 43,\n",
       " 45,\n",
       " 47,\n",
       " 49,\n",
       " 51,\n",
       " 53,\n",
       " 55,\n",
       " 57,\n",
       " 59,\n",
       " 61,\n",
       " 63,\n",
       " 65,\n",
       " 67,\n",
       " 69,\n",
       " 71,\n",
       " 73,\n",
       " 75,\n",
       " 77,\n",
       " 79,\n",
       " 81,\n",
       " 83,\n",
       " 85,\n",
       " 87,\n",
       " 89,\n",
       " 91,\n",
       " 93,\n",
       " 95,\n",
       " 97,\n",
       " 99]"
      ]
     },
     "execution_count": 14,
     "metadata": {},
     "output_type": "execute_result"
    }
   ],
   "source": [
    "#ans9\n",
    "[i for i in range(1,100) if i%2!=0]"
   ]
  },
  {
   "cell_type": "code",
   "execution_count": null,
   "id": "cf2b3b26-798b-414d-9260-dc614fcf2f1e",
   "metadata": {},
   "outputs": [],
   "source": []
  }
 ],
 "metadata": {
  "kernelspec": {
   "display_name": "Python 3 (ipykernel)",
   "language": "python",
   "name": "python3"
  },
  "language_info": {
   "codemirror_mode": {
    "name": "ipython",
    "version": 3
   },
   "file_extension": ".py",
   "mimetype": "text/x-python",
   "name": "python",
   "nbconvert_exporter": "python",
   "pygments_lexer": "ipython3",
   "version": "3.10.8"
  }
 },
 "nbformat": 4,
 "nbformat_minor": 5
}
