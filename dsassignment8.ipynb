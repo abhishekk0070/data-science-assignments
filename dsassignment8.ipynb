{
 "cells": [
  {
   "cell_type": "code",
   "execution_count": 1,
   "id": "060ece1b-e5ac-46ae-9a5c-88ebad9a5a99",
   "metadata": {},
   "outputs": [
    {
     "name": "stdin",
     "output_type": "stream",
     "text": [
      "enter a password ABhik18@#$\n"
     ]
    },
    {
     "name": "stdout",
     "output_type": "stream",
     "text": [
      "valid password\n"
     ]
    }
   ],
   "source": [
    "#ans1\n",
    "def validate_password(password):\n",
    "    if len(password)!=10:\n",
    "        print('invalid password')\n",
    "    char_upper=0\n",
    "    char_lower=0\n",
    "    digit=0\n",
    "    special_char=0\n",
    "    for char in password:\n",
    "        if char.isupper():\n",
    "            char_upper+=1\n",
    "        \n",
    "        elif char.islower():\n",
    "            char_lower+=1\n",
    "        \n",
    "        elif char.isdigit():\n",
    "            digit+=1\n",
    "            \n",
    "        elif char in \"!@#$%^&*()-+=\":\n",
    "            special_char += 1\n",
    "    \n",
    "    if char_upper>=2 and char_lower>=2 and digit>=1 and special_char>=3:\n",
    "        return 'valid password'\n",
    "    else:\n",
    "        return 'invalid password'\n",
    "        \n",
    "password=input('enter a password')\n",
    "result=validate_password(password)\n",
    "print(result)"
   ]
  },
  {
   "cell_type": "code",
   "execution_count": 2,
   "id": "5c47869f-093f-45df-8b9e-07f30b51a0ae",
   "metadata": {},
   "outputs": [],
   "source": [
    "#ans2\n",
    "#ans2.1 Check if the string starts with a particular letter\n",
    "result=lambda string:print('string starts with letter \"a\"') if string[0]=='a' else print('string does not starts with letter \"a\"')\n"
   ]
  },
  {
   "cell_type": "code",
   "execution_count": 3,
   "id": "48a04a95-5dcc-4900-b54c-c69d28525429",
   "metadata": {},
   "outputs": [
    {
     "name": "stdout",
     "output_type": "stream",
     "text": [
      "string starts with letter \"a\"\n"
     ]
    }
   ],
   "source": [
    "result('abhishek')"
   ]
  },
  {
   "cell_type": "code",
   "execution_count": 4,
   "id": "860ff29e-0e2c-4e18-9a5f-ff20c5df4788",
   "metadata": {},
   "outputs": [],
   "source": [
    "#ans2.2 Check if the string is numeric.\n",
    "result=lambda string:print('string is numeric') if string.isnumeric() else print('string is not numeric')\n"
   ]
  },
  {
   "cell_type": "code",
   "execution_count": 5,
   "id": "7a14a5d6-9599-48a0-8f46-702bb6814520",
   "metadata": {},
   "outputs": [
    {
     "name": "stdout",
     "output_type": "stream",
     "text": [
      "string is numeric\n"
     ]
    }
   ],
   "source": [
    "result('12378')"
   ]
  },
  {
   "cell_type": "code",
   "execution_count": 6,
   "id": "1f83cbf3-7eb7-4274-9981-1cc3685781d2",
   "metadata": {},
   "outputs": [
    {
     "name": "stdout",
     "output_type": "stream",
     "text": [
      "[('orange', 80), ('mango', 99), ('grapes', 1000)]\n"
     ]
    }
   ],
   "source": [
    "#ans2.3\n",
    "fruits=[(\"mango\",99),(\"orange\",80), (\"grapes\", 1000)]\n",
    "sorted_list=sorted(fruits,key=lambda x:x[1])\n",
    "print(sorted_list)"
   ]
  },
  {
   "cell_type": "code",
   "execution_count": 9,
   "id": "b2367647-3c19-44d8-b92b-bf202c3f123c",
   "metadata": {},
   "outputs": [
    {
     "name": "stdout",
     "output_type": "stream",
     "text": [
      "[1, 4, 9, 16, 25, 36, 49, 64, 81, 100]\n"
     ]
    }
   ],
   "source": [
    "#ans2.4 \n",
    "list1=[1,2,3,4,5,6,7,8,9,10]\n",
    "squared_list=list(map(lambda x:x**2,list1))\n",
    "print(squared_list)"
   ]
  },
  {
   "cell_type": "code",
   "execution_count": 10,
   "id": "0338ee9a-c4a0-4016-b84a-978aa2757318",
   "metadata": {},
   "outputs": [
    {
     "name": "stdout",
     "output_type": "stream",
     "text": [
      "[1, 8, 27, 64, 125, 216, 343, 512, 729, 1000]\n"
     ]
    }
   ],
   "source": [
    "#ans2.5 \n",
    "list1=[1,2,3,4,5,6,7,8,9,10]\n",
    "squared_list=list(map(lambda x:x**3,list1))\n",
    "print(squared_list)"
   ]
  },
  {
   "cell_type": "code",
   "execution_count": 11,
   "id": "5873b006-7f18-4eb8-be77-a075ceeaf676",
   "metadata": {},
   "outputs": [],
   "source": [
    "#ans2.6\n",
    "even_num=lambda x:print(x,'is even') if x%2==0 else print('odd number')"
   ]
  },
  {
   "cell_type": "code",
   "execution_count": 12,
   "id": "02f22779-b076-4c22-86f3-7a0aa596c96a",
   "metadata": {},
   "outputs": [
    {
     "name": "stdout",
     "output_type": "stream",
     "text": [
      "4 is even\n"
     ]
    }
   ],
   "source": [
    "even_num(4)"
   ]
  },
  {
   "cell_type": "code",
   "execution_count": 13,
   "id": "84126447-89ef-44ec-b043-b7a49db36d5e",
   "metadata": {},
   "outputs": [
    {
     "data": {
      "text/plain": [
       "[1, 3, 5, 7, 9]"
      ]
     },
     "execution_count": 13,
     "metadata": {},
     "output_type": "execute_result"
    }
   ],
   "source": [
    "#ans2.7\n",
    "list1=[1,2,3,4,5,6,7,8,9,10]\n",
    "list(filter(lambda x:x%2!=0,list1))"
   ]
  },
  {
   "cell_type": "code",
   "execution_count": 16,
   "id": "c2409699-d160-4933-ad10-7c10a1825790",
   "metadata": {},
   "outputs": [
    {
     "name": "stdout",
     "output_type": "stream",
     "text": [
      "[1, 2, 3, 4, 5, 6, 0]\n",
      "[-1, -2, -3, -4, -5]\n"
     ]
    }
   ],
   "source": [
    "#ans2.8\n",
    "list1=[1,2,3,4,5,6,-1,-2,-3,-4,-5,0]\n",
    "positive_num=[]\n",
    "negative_num=[]\n",
    "list(filter(lambda x:positive_num.append(x) if x>=0 else negative_num.append(x),list1))\n",
    "print(positive_num)\n",
    "print(negative_num)"
   ]
  },
  {
   "cell_type": "code",
   "execution_count": null,
   "id": "1f8dd31a-1330-40e5-8ae6-97074e498ea7",
   "metadata": {},
   "outputs": [],
   "source": []
  }
 ],
 "metadata": {
  "kernelspec": {
   "display_name": "Python 3 (ipykernel)",
   "language": "python",
   "name": "python3"
  },
  "language_info": {
   "codemirror_mode": {
    "name": "ipython",
    "version": 3
   },
   "file_extension": ".py",
   "mimetype": "text/x-python",
   "name": "python",
   "nbconvert_exporter": "python",
   "pygments_lexer": "ipython3",
   "version": "3.10.8"
  }
 },
 "nbformat": 4,
 "nbformat_minor": 5
}
